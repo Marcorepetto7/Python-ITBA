{
  "cells": [
    {
      "cell_type": "markdown",
      "metadata": {
        "id": "VukSwz9GXKVA"
      },
      "source": [
        "<a href=\"https://colab.research.google.com/github/ITBA-Python/Certificacion-Profesional-Python/blob/main/Clase_6.ipynb\" target=\"_parent\"><img src=\"https://colab.research.google.com/assets/colab-badge.svg\" alt=\"Open In Colab\"/></a>"
      ]
    },
    {
      "cell_type": "markdown",
      "metadata": {
        "id": "UShQ7MbxF39r"
      },
      "source": [
        "<img src=\"https://raw.githubusercontent.com/ITBA-Python/Certificacion-Profesional-Python/main/assets/clase2/Headers%20c%C3%A1talogo_Mesa%20de%20trabajo%201%20copia%2044.jpg\" width=\"800\">\n",
        "\n",
        "\n",
        "\n",
        "# Certificación profesional de Python\n",
        "\n",
        "# Clase 6\n",
        "\n",
        "El objetivo de la clase es seguir sumando experiencia de trabajo con programación aprendiendo los siguientes temas.\n",
        "\n",
        "*   Páginas web\n",
        "*   Servicios web y formato XML\n",
        "\n",
        "La clase incluye teoría y práctica sobre cada tema aprendido.\n",
        "\n",
        "<img src=\"https://raw.githubusercontent.com/ITBA-Python/Certificacion-Profesional-Python/main/assets/clase2/LOGOTIPO_sin_fondo_positivo_sin_bajada.png\" width=\"400\">\n",
        "\n"
      ]
    },
    {
      "cell_type": "markdown",
      "metadata": {
        "id": "CItOsjbcXKVC"
      },
      "source": [
        "# Páginas web"
      ]
    },
    {
      "cell_type": "markdown",
      "metadata": {
        "id": "IS5pG6GZXKVD"
      },
      "source": [
        "Empezaremos viendo el funcionamiento de la web para luego poder interacturar a través de Python.\n"
      ]
    },
    {
      "cell_type": "markdown",
      "metadata": {
        "id": "ik0M60R-XKVD"
      },
      "source": [
        "## Repaso - Modelo cliente y servidor"
      ]
    },
    {
      "cell_type": "markdown",
      "metadata": {
        "id": "LnYdiLM9XKVD"
      },
      "source": [
        "En la web las transferencias de datos siguen el modelo de cliente y servidor que vimos anteriormente.\n",
        "\n",
        "<img src=\"https://mdn.mozillademos.org/files/17299/Cliente-Servidor.png\" width=\"400\">\n",
        "\n",
        "Recordemos que el servidor es el que se encarga de almacenar y brindar los datos, mientras que el cliente es el que solicita estos datos. Todas estas comunicaciones en la web utilizan además el protocolo HTTP, sobre el protocolo de TCP/IP. El cliente hace requests HTTP, mientras que el servidor responde a éstos con responses HTTP.\n",
        "\n",
        "Los clientes en este caso son los dispositivos de los usuarios que se conectan a la web, como por ejemplo la computadora o el celular, y el software que utilizan para acceder a la web, el navegador.\n",
        "El navegador es un programa que se ejecuta en el dispositivo de cada usuario y es el que se encarga de enviar los requests HTTP y procesar las respuestas del servidor.\n",
        "\n",
        "Los servidores por otro lado son los dispositivos que almacenan páginas web y responden a los requests de los navegadores.\n"
      ]
    },
    {
      "cell_type": "markdown",
      "metadata": {
        "id": "BO2EX4mOXKVD"
      },
      "source": [
        "## Direcciones web"
      ]
    },
    {
      "cell_type": "markdown",
      "metadata": {
        "id": "edi5VzDLXKVE"
      },
      "source": [
        "Vimos anteriormente que para comunicarnos con otro dispositivo en Internet necesitamos conocer su dirección IP y puerto para establecer la conexión. En la web ésto funciona de la misma manera, pero el usuario nunca ingresa en un navegador una dirección IP del estilo 54.32.10.01. ¿Cómo funciona entonces el navegador?\n",
        "\n",
        "Las direcciones IP no son fáciles de recordar por los usuarios, como sí lo puede ser una dirección del estilo google.com. Por eso existen unos servidores especiales en Internet, los servidores de nombres de dominio o DNS.\n",
        "Estos servidores se encargan convertir una dirección web como las que utilizamos todos los días, en la dirección IP correspondiente. Por ejemplo, la dirección IP 142.251.40.142 se converite en la dirección google.com. Pueden comprobar la dirección IP de una página con la siguiente herramienta: <a href=\"https://ipinfo.info/html/ip_checker.php\">IP Checker</a>\n",
        "\n",
        "El puerto por otro lado se utiliza siempre el puerto 80 para las comunicaciones en la web."
      ]
    },
    {
      "cell_type": "markdown",
      "metadata": {
        "id": "1tdv0ueCXKVE"
      },
      "source": [
        "## Funcionamiento de la web"
      ]
    },
    {
      "cell_type": "markdown",
      "metadata": {
        "id": "bXL1eAZsXKVF"
      },
      "source": [
        "Cuando un usuario quiere ingresar a una página web, por ejemplo google.com, se realizan una serie de pasos hasta que la página aparece en la pantalla.\n",
        "\n",
        "- El usuario abre el navegador, e ingresa la dirección que quiere. Para este ejemplo, escribe google.com.\n",
        "- El navegador envía un request al servidor DNS para encontrar la dirección IP de google.com, en este caso obtiene 142.251.40.142.\n",
        "- El navegador hace un request HTTP al servidor de la dirección IP obtenida, y le pide una copia de la página web.\n",
        "- El servidor recibe el request y devuelve un response HTTP con el código 200 OK. Luego envía la página web por medio de paquetes.\n",
        "- El navegador toma todos los paquetes que corresponden a la página web, los procesa, construye la página completa y la muestra en el pantalla."
      ]
    },
    {
      "cell_type": "markdown",
      "metadata": {
        "id": "Q0ibV3K-XKVF"
      },
      "source": [
        "## Componentes de la web"
      ]
    },
    {
      "cell_type": "markdown",
      "metadata": {
        "id": "u9Q_O_49XKVF"
      },
      "source": [
        "Anteriormente mencionamos que el servidor envía la página web en paquetes, pero cómo esta formada exactamente una página web? Una página se compone de varios archivos diferentes de código, principalmente HTML, CSS Y Javascript.\n",
        "\n",
        "- HTML: lenguaje de marcado de hipertexto, es un lenguaje de marcado que define la estructura básica y el contenido de una página web. Utiliza etiquetas para delimitar los componentes de la página y agregar información adicional sobre la presentación o la estructura del texto.\n",
        "- CSS: es un lenguaje de diseño que permite definir la presentación de un documento estructurado con un lenguaje de marcado.\n",
        "- Javascript: es un lenguaje de programación interpretado, similar en su funcionalidad a Python a diferencia de los otros lenguajes de la web, que se utiliza para mejorar la funcionalidad e interacción de usuario de una página."
      ]
    },
    {
      "cell_type": "markdown",
      "metadata": {
        "id": "XpPS8WvHXKVF"
      },
      "source": [
        "A modo de ejemplo vamos a ver las diferencias entre un request GET a un servidor web y un request GET como los que vimos en clases anteriores.\n",
        " - Identifiquen las diferencias entre las respuestas al GET en ambos casos."
      ]
    },
    {
      "cell_type": "code",
      "execution_count": 1,
      "metadata": {
        "id": "BdOtGuUNXKVF",
        "outputId": "9844802b-e2e6-45ef-996d-23758577503a",
        "colab": {
          "base_uri": "https://localhost:8080/"
        }
      },
      "outputs": [
        {
          "output_type": "stream",
          "name": "stdout",
          "text": [
            "# Certificación Profesional Python\n",
            "\n",
            "Hoy en día todos los objetos que nos rodean poseen una pieza de código, cada día poseemos más dispositivos inteligentes, desde heladeras hasta tostadoras inteligentes. Por esta razón es muy importante aprender a programar para entender el mundo que nos rodea. La industria del software fue estimada en 58 Bn USD en 2021 y se espera que crezca a 79 Bn para 2026, por lo que la capacidad de comprender código y poseer las nociones básicas de programación permitirán \n"
          ]
        }
      ],
      "source": [
        "import requests\n",
        "\n",
        "## Request GET al archivo RAW del readme del repositorio de este curso.\n",
        "r = requests.get(\"https://raw.githubusercontent.com/ITBA-Python/Certificacion-Profesional-Python/main/README.md\")\n",
        "print(r.text[:500])\n",
        "\n",
        "## Guardo los contenidos en un archivo\n",
        "with open(\"readme.md\", \"wb\") as fp:\n",
        "    fp.write(r.content)"
      ]
    },
    {
      "cell_type": "code",
      "execution_count": 2,
      "metadata": {
        "id": "NJx3jasZXKVG",
        "outputId": "8f40322d-1df6-43c8-c770-d28538cc3d37",
        "colab": {
          "base_uri": "https://localhost:8080/"
        }
      },
      "outputs": [
        {
          "output_type": "stream",
          "name": "stdout",
          "text": [
            "!DOCTYPE html>\n",
            "<html\n",
            "  lang=\"en\"\n",
            "  \n",
            "  data-color-mode=\"auto\" data-light-theme=\"light\" data-dark-theme=\"dark\"\n",
            "  data-a11y-animated-images=\"system\" data-a11y-link-underlines=\"true\"\n",
            "  \n",
            "  >\n",
            "\n",
            "\n",
            "\n",
            "  <head>\n",
            "    <meta charset=\"utf-8\">\n",
            "  <link rel=\"dns-prefetch\" href=\"https://github.githubassets.com\">\n",
            "  <link rel=\"dns-prefetch\" href=\"https://avatars.githubusercontent.com\">\n",
            "  <link rel=\"dns-prefetch\" href=\"https://github-cloud.s3.amazonaws.com\">\n",
            "  <link rel=\"dns-prefetch\" href=\"https://user-images.githubusercontent.com/\">\n",
            "  <link rel=\"preconnect\" href=\"https://github.githubassets.com\" crossorigin>\n",
            "  <link rel=\"preconnect\" href=\"https://avatars.githubusercontent.com\">\n",
            "\n",
            "  \n",
            "\n",
            "\n",
            "  <link crossorigin=\"an\n"
          ]
        }
      ],
      "source": [
        "## Request GET al servidor de github donde esta almacenado el archivo readme del repositorio del curso.\n",
        "r = requests.get(\"https://github.com/ITBA-Python/Certificacion-Profesional-Python/blob/main/README.md\")\n",
        "print(r.text[7:700])\n",
        "\n",
        "## Guardo los contenidos en un archivo para ver la página web obtenida\n",
        "with open(\"readme.html\", \"wb\") as fp:\n",
        "    fp.write(r.content)"
      ]
    },
    {
      "cell_type": "markdown",
      "metadata": {
        "id": "0qi5tBXwXKVG"
      },
      "source": [
        "Como podemos ver, el request GET que hacemos a la dirección web en github es lo mismo que hace el navegador cuando entramos a esa página. El navegador es capaz de entender ese código y mostrar en pantalla cada elemento de la página web.\n",
        "\n",
        "Desde nuestro código de Python, podemos también parsear el contenido de ésta respuesta para hacer algún tipo de procesamiento. Por ejemplo, en este caso podríamos contar la cantidad de secciones o la cantidad de palabras.\n",
        "Hay muchas herramientas en Python que nos facilitan el parseo de páginas web, como Pandas (<a href=\"https://pandas.pydata.org/docs/\">Documentación</a>, <a href=\"https://towardsdatascience.com/scraping-tabular-data-with-pandas-python-10cf2a133cbf\">Parseo de HTML</a>) o Beautiful Soup (<a href=\"https://beautiful-soup-4.readthedocs.io/en/latest/\">Documentación</a>)."
      ]
    },
    {
      "cell_type": "markdown",
      "metadata": {
        "id": "ZtDNL8DSXKVG"
      },
      "source": [
        "# Servicios web y XML"
      ]
    },
    {
      "cell_type": "markdown",
      "metadata": {
        "id": "1E0O_OzzXKVH"
      },
      "source": [
        "Hasta ahora vimos que al hacer requests de tipo GET a una página web podemos obtener el código HTML o si hacemos GET a un archivo específico obtenemos ese archivo. Pero también hay aplicaciones de software que tienen interfaces mediante las que permiten interactuar con la aplicación a través de la red. Estos son los llamados servicios web, que intercambiando mensajes permiten intercambiar datos."
      ]
    },
    {
      "cell_type": "markdown",
      "metadata": {
        "id": "k3crFp4xXKVH"
      },
      "source": [
        "Existen múltiples estándares que se utilizan para comunicarse con un servicio web, y éste dependerá de la implementación en particular de cada servicio. Podemos encontrar servicios que utilizan el protocolo SOAP (Simple Object Access Protocol) o XML-RPC (XML Remote Procedure Call).\n",
        "En general, el formato utilizado para el intercambio de datos es el XML."
      ]
    },
    {
      "cell_type": "markdown",
      "metadata": {
        "id": "4Es2PfDqXKVH"
      },
      "source": [
        "## XML"
      ]
    },
    {
      "cell_type": "markdown",
      "metadata": {
        "id": "uDQCgZvFXKVH"
      },
      "source": [
        "El formato XML (Lenguaje de marcas extensible) es un lenguaje de marcas al igual que HTML. Sin embargo, en lugar de utilzarse para definir la estructura de una página web, se utiliza para almacenar datos y estructurar documentos. Es muy utilizado para el intercambio de datos en internet, junto con el formato JSON.\n",
        "\n",
        "En el caso de los servicios web, muchas veces utilizan este formato para el intercambio de datos ya que fue diseñado para ser fácilmente legible tanto por personas como por programas de software."
      ]
    },
    {
      "cell_type": "markdown",
      "metadata": {
        "id": "LVMQXHrWXKVH"
      },
      "source": [
        "Ejemplo de archivo XML:\n",
        "```xml\n",
        "<?xml version=\"1.0\" encoding=\"UTF-8\" ?>\n",
        "<!DOCTYPE Edit_Mensaje SYSTEM \"Edit_Mensaje.dtd\">\n",
        "\n",
        "<Edit_Mensaje>\n",
        "     <Mensaje>\n",
        "          <Remitente>\n",
        "               <Nombre>Nombre del remitente</Nombre>\n",
        "               <Mail> Correo del remitente </Mail>\n",
        "          </Remitente>\n",
        "          <Destinatario>\n",
        "               <Nombre>Nombre del destinatario</Nombre>\n",
        "               <Mail>Correo del destinatario</Mail>\n",
        "          </Destinatario>\n",
        "          <Texto>\n",
        "               <Asunto>\n",
        "                    Este es mi documento con una estructura muy sencilla\n",
        "                    no contiene atributos ni entidades...\n",
        "               </Asunto>\n",
        "               <Parrafo>\n",
        "                    Este es mi documento con una estructura muy sencilla\n",
        "                    no contiene atributos ni entidades...\n",
        "               </Parrafo>\n",
        "          </Texto>\n",
        "     </Mensaje>\n",
        "</Edit_Mensaje>\n",
        "```"
      ]
    },
    {
      "cell_type": "markdown",
      "metadata": {
        "id": "RuNHgfNZXKVH"
      },
      "source": [
        "Típicamente se puede pensar un archivo XML como una estructura en forma de árbol, donde cada etiqueta representa un nodo del árbol y las etiquetas que ésta contiene representan los hijos de ese nodo.\n",
        "\n",
        "<img src=\"https://media.geeksforgeeks.org/wp-content/cdn-uploads/parsing-XML.gif\" width=\"400\">"
      ]
    },
    {
      "cell_type": "markdown",
      "metadata": {
        "id": "WwAI9zXtXKVH"
      },
      "source": [
        "### RSS"
      ]
    },
    {
      "cell_type": "markdown",
      "metadata": {
        "id": "plEEp4IlXKVH"
      },
      "source": [
        "RSS es simplemente un formato XML que se utiliza para distribuir contenido en la web, típicamente para datos que son actualizados frecuentemente como entradas de blogs y feeds de noticias."
      ]
    },
    {
      "cell_type": "markdown",
      "metadata": {
        "id": "HYIZ6HJrXKVI"
      },
      "source": [
        "### Parseo de XML y RSS"
      ]
    },
    {
      "cell_type": "markdown",
      "metadata": {
        "id": "2cmwzkR1XKVI"
      },
      "source": [
        "Python nos permite procesar los datos que obtenemos de un servicio web mediante requests HTTP, analizando y parseando los datos en formato XML. Para ésto contamos con el módulo xml de Python (<a href=\"https://docs.python.org/3/library/xml.etree.elementtree.html\">Documentación</a>).\n",
        "\n",
        "Los más importante a destacar de éste módulo es que nos brinda dos tipos de objetos para representar un XML, siguiendo la estructura de árbol:\n",
        " - ElementTree: representa todo el XML.\n",
        " - Element: representa cada nodo del árbol XML."
      ]
    },
    {
      "cell_type": "code",
      "execution_count": 3,
      "metadata": {
        "id": "3yw3innnXKVI"
      },
      "outputs": [],
      "source": [
        "# Obtenemos primero un RSS de un sitio de noticias, y lo guardamos como XML.\n",
        "\n",
        "r = requests.get(\"https://www.ole.com.ar/rss/ultimas-noticias/\")\n",
        "with open(\"news_feed.xml\", \"wb\") as fp:\n",
        "    fp.write(r.content)"
      ]
    },
    {
      "cell_type": "code",
      "execution_count": 4,
      "metadata": {
        "id": "28Zw5OiFXKVI",
        "outputId": "a64c5ecc-bd9d-4a70-bb0f-bdf65e7993c4",
        "colab": {
          "base_uri": "https://localhost:8080/"
        }
      },
      "outputs": [
        {
          "output_type": "stream",
          "name": "stdout",
          "text": [
            "rss {'version': '2.0'}\n",
            "channel\n",
            "Hay 10 items en el XML\n",
            "Primer item de noticia: Garnacho, ganador del premio Puskas al mejor gol del año\n"
          ]
        }
      ],
      "source": [
        "import xml.etree.ElementTree as ET\n",
        "\n",
        "# Parseamos el XML - obtenemos el ElementTree\n",
        "tree = ET.parse(\"news_feed.xml\")\n",
        "\n",
        "# Obtenemos un Element de la base del XML\n",
        "root = tree.getroot()\n",
        "print(root.tag, root.attrib)\n",
        "\n",
        "# Recorremos todos los hijos de la base\n",
        "for child in root:\n",
        "    print(child.tag)\n",
        "\n",
        "# Buscar elementos\n",
        "items = root.findall(\"./channel/item\")\n",
        "print(f\"Hay {len(items)} items en el XML\")\n",
        "print(\"Primer item de noticia:\", items[0].find(\"title\").text)"
      ]
    },
    {
      "cell_type": "markdown",
      "metadata": {
        "id": "bX_-V0LCXKVI"
      },
      "source": [
        "Existen múltiples servicios web en Argentina que proveen feeds de noticias en formato RSS. Listamos algunas:\n",
        "\n",
        "- <a href=\"https://www.clarin.com/rss.html\">Clarín</a>\n",
        "- <a href=\"https://www.perfil.com/canales-rss\">Perfil</a>\n",
        "- <a href=\"https://www.pagina12.com.ar/pagina/rss\">Página 12</a>\n",
        "- <a href=\"https://www.ole.com.ar/filer/RSS/rss.html\">Olé</a>"
      ]
    },
    {
      "cell_type": "markdown",
      "metadata": {
        "id": "3iIRlWGTXKVI"
      },
      "source": [
        "### Ejercicios"
      ]
    },
    {
      "cell_type": "markdown",
      "metadata": {
        "id": "3ymz5qh4XKVI"
      },
      "source": [
        "1) Tomar todas las noticias del RSS analizado anteriormente y convertir la información en una lista de diccionarios con la información más importante de cada noticia.\n",
        "\n",
        "2) Contar cuántas noticias hablan sobre Messi en los RSS de noticias Argentinas.\n",
        "\n",
        "3) Contar cúantas noticias hablan sobre el dólar en la sección de Economía de por lo menos 2 sitios web.\n",
        "\n",
        "4) Imprimir por pantalla las últimas tres noticias con la siguiente información: título, fecha, link a la noticia en su respectiva web + descripción (si tiene)."
      ]
    },
    {
      "cell_type": "code",
      "execution_count": 54,
      "metadata": {
        "id": "RbZylHa1XKVI",
        "outputId": "4107837f-9eca-44f5-87e5-2570621af041",
        "colab": {
          "base_uri": "https://localhost:8080/"
        }
      },
      "outputs": [
        {
          "output_type": "stream",
          "name": "stdout",
          "text": [
            "rss {'version': '2.0'}\n",
            "channel\n",
            "Hay 10 items en el XML\n",
            "Valentín Gómez y el palito hacia Núñez tras su frustrado pase: \"Nadie de River fue capaz de llamarme...\"\n",
            "<p>El defensor de Vélez habló sobre la operación que no se pudo realizar a mitad de año y se lamentó por no haber </p>\n",
            "The Best: la revancha de Vinicius Jr.\n",
            "<p>El brasileño del Real Madrid fue elegido el mejor del mundo tras el boicot al Balón de Oro.</p>\n",
            "Dibu Martínez volvió a ganar el premio The Best al mejor arquero del mundo\n",
            "<p>El dueño del arco de la Selección se quedó con el galardón de la FIFA que distingue al más destacado de la temporada.</p>\n",
            "La Liga Profesional y el peor promedio de gol desde el Apertura 2011\n",
            "<p>La LPF 2024 registró muy pocos goles este año, siendo así uno de los campeonatos con menos festejos de los últimos tiempos.</p>\n",
            "Garnacho, ganador del premio Puskas al mejor gol del año\n",
            "<p>El argentino fue premiado por la FIFA por el golazo de chilena que le convirtió al Everton en la Premier League. Mirá.</p>\n",
            "Cómo será la lucha por el arco de Boca en 2025\n",
            "<p>Las dudas de los últimos meses abrieron la puerta de una sucesión. Los nombres en danza y la situación particular de cada uno.</p>\n",
            "La aparición (con yapa) de Colapinto en el video con lo mejor de la temporada en la Fórmula 1\n",
            "<p>El piloto argentino causó sensación en la F1 y se ganó una doble presencia en el resumen animado de los grandes momentos del año.</p>\n",
            "River, Valentín Gómez y la chicana desde Vélez: \"Bajó la cotización porque dicen que está lesionado\"\n",
            "<p>Fabián Berlanga, presidente del Fortín, bromeó al hablar sobre la cotización del defensor que está en la mira de Gallardo.</p>\n",
            "El posteo especial de Juanfer dedicado a Costas en medio de los rumores de su posible salida a River\n",
            "<p>El colombiano le dedicó unas lindas palabras a su deté mientras que en Racing se esfuerzan por retenerlo hasta el final de su contrato.</p>\n",
            "El grande de Sudamérica que rechazó el Cacique Medina para quedarse en Talleres\n",
            "<p>El entrenador de la T recibió una importante oferta, pero no la aceptó. Mirá...</p>\n",
            "0\n",
            "0\n",
            "El grande de Sudamérica que rechazó el Cacique Medina para quedarse en Talleres\n",
            "Tue, 17 Dec 2024 12:22:25 -0300\n",
            "https://www.ole.com.ar/equipos/talleres/talleres-cacique-medina-oferta_0_5FmLGdPsqs.html\n",
            "<p>El entrenador de la T recibió una importante oferta, pero no la aceptó. Mirá...</p>\n",
            "El posteo especial de Juanfer dedicado a Costas en medio de los rumores de su posible salida a River\n",
            "Tue, 17 Dec 2024 12:59:57 -0300\n",
            "https://www.ole.com.ar/equipos/talleres/talleres-cacique-medina-oferta_0_5FmLGdPsqs.html\n",
            "<p>El colombiano le dedicó unas lindas palabras a su deté mientras que en Racing se esfuerzan por retenerlo hasta el final de su contrato.</p>\n",
            "River, Valentín Gómez y la chicana desde Vélez: \"Bajó la cotización porque dicen que está lesionado\"\n",
            "Tue, 17 Dec 2024 13:05:22 -0300\n",
            "https://www.ole.com.ar/equipos/talleres/talleres-cacique-medina-oferta_0_5FmLGdPsqs.html\n",
            "<p>Fabián Berlanga, presidente del Fortín, bromeó al hablar sobre la cotización del defensor que está en la mira de Gallardo.</p>\n"
          ]
        }
      ],
      "source": [
        "import xml.etree.ElementTree as ET\n",
        "r = requests.get(\"https://www.ole.com.ar/rss/ultimas-noticias/\")\n",
        "with open(\"news_feed.xml\", \"wb\") as fp:\n",
        "  fp.write(r.content)\n",
        "tree = ET.parse(\"news_feed.xml\")\n",
        "root = tree.getroot()\n",
        "print(root.tag, root.attrib)\n",
        "for child in root:\n",
        "    print(child.tag)\n",
        "items = root.findall(\"./channel/item\")\n",
        "print(f\"Hay {len(items)} items en el XML\")\n",
        "contador_messi = 0\n",
        "contador_dolar = 0\n",
        "for item in items:\n",
        "  print(item.find(\"title\").text)\n",
        "  print(item.find(\"description\").text)\n",
        "  noticia_tit = str(item.find(\"title\").text)\n",
        "  noticia_descrip = str(item.find(\"description\").text)\n",
        "  titulos = noticia_tit.count(\"Messi\",0,len(noticia_tit))\n",
        "  descripcion = noticia_descrip.count(\"Messi\",0,len(noticia_descrip))\n",
        "  titulos1 = noticia_tit.count(\"dolar\",0,len(noticia_tit))\n",
        "  descripcion1 = noticia_descrip.count(\"dolar\",0,len(noticia_descrip))\n",
        "  if descripcion > 0 or titulos > 0:\n",
        "    contador_messi =+ 1\n",
        "  if descripcion > 0 or titulos > 0:\n",
        "    contador_dolar =+1\n",
        "print(contador_messi)\n",
        "print(contador_dolar)\n",
        "\n",
        "tamaño = len(items) - 1\n",
        "print(items[tamaño].find(\"title\").text)\n",
        "print(items[tamaño].find(\"pubDate\").text)\n",
        "print(items[tamaño].find(\"link\").text)\n",
        "print(items[tamaño].find(\"description\").text)\n",
        "print(items[tamaño - 1].find(\"title\").text)\n",
        "print(items[tamaño - 1].find(\"pubDate\").text)\n",
        "print(items[tamaño].find(\"link\").text)\n",
        "print(items[tamaño - 1].find(\"description\").text)\n",
        "print(items[tamaño - 2].find(\"title\").text)\n",
        "print(items[tamaño - 2].find(\"pubDate\").text)\n",
        "print(items[tamaño].find(\"link\").text)\n",
        "print(items[tamaño - 2].find(\"description\").text)\n",
        "\n",
        "\n",
        "\n"
      ]
    }
  ],
  "metadata": {
    "colab": {
      "name": "Clase 6.ipynb",
      "provenance": []
    },
    "interpreter": {
      "hash": "8a94588eda9d64d9e9a351ab8144e55b1fabf5113b54e67dd26a8c27df0381b3"
    },
    "kernelspec": {
      "display_name": "Python 3.10.4 64-bit",
      "language": "python",
      "name": "python3"
    },
    "language_info": {
      "name": "python",
      "version": "3.10.4"
    }
  },
  "nbformat": 4,
  "nbformat_minor": 0
}