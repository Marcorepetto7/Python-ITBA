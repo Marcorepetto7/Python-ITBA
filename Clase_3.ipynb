{
  "nbformat": 4,
  "nbformat_minor": 0,
  "metadata": {
    "colab": {
      "name": "Clase 3.ipynb",
      "provenance": [],
      "toc_visible": true
    },
    "kernelspec": {
      "name": "python3",
      "display_name": "Python 3"
    },
    "language_info": {
      "name": "python"
    }
  },
  "cells": [
    {
      "cell_type": "markdown",
      "source": [
        "<img src=\"https://raw.githubusercontent.com/ITBA-Python/Certificacion-Profesional-Python/main/assets/clase2/Headers%20c%C3%A1talogo_Mesa%20de%20trabajo%201%20copia%2044.jpg\" width=\"800\">\n",
        "\n",
        "\n",
        "\n",
        "# Certificación profesional de Python\n",
        "\n",
        "# Clase 3\n",
        "\n",
        "El objetivo de la clase es obtener la primera experiencia de trabajo con programación aprendiendo los siguientes temas.\n",
        "\n",
        "*   Loops e iteraciones\n",
        "*   Strings\n",
        "*   Acceso a archivos\n",
        "\n",
        "La clase incluye teoría y práctica sobre cada tema aprendido.\n",
        "\n",
        "<img src=\"https://raw.githubusercontent.com/ITBA-Python/Certificacion-Profesional-Python/main/assets/clase2/LOGOTIPO_sin_fondo_positivo_sin_bajada.png\" width=\"400\">\n",
        "\n"
      ],
      "metadata": {
        "id": "UShQ7MbxF39r"
      }
    },
    {
      "cell_type": "markdown",
      "source": [
        "# Control de flujo\n",
        "\n"
      ],
      "metadata": {
        "id": "c1LTtntUG93L"
      }
    },
    {
      "cell_type": "markdown",
      "source": [
        "El código en Python es **código secuencial**, es decir, cada instrucción es ejecutada una después de la otra. En el siguiente gráfico se muestra el orden de las instrucciones:\n",
        "\n",
        "<img src=\"https://raw.githubusercontent.com/ITBA-Python/Certificacion-Profesional-Python/main/assets/clase3/flujo_secuencial.png\" width=\"150\" style=\"display: block; margin: 0 auto\" />\n",
        "\n",
        "La clase pasada vimos la **estructura if** que nos permite ejecutar código si se cumple una condición:\n",
        "\n",
        "<img src=\"https://raw.githubusercontent.com/ITBA-Python/Certificacion-Profesional-Python/main/assets/clase3/flujo_condicional.png\" width=\"400\" style=\"display: block; margin: 0 auto\" />\n",
        "\n",
        "Esta semana veremos el **flujo iterativo** que nos permite ejecutar código mientras se cumpla una condición.\n",
        "\n",
        "<img src=\"https://raw.githubusercontent.com/ITBA-Python/Certificacion-Profesional-Python/main/assets/clase3/flujo_iterativo.png\" width=\"200\" style=\"display: block; margin: 0 auto\" />\n",
        "\n",
        "Todas las estructuras de control de flujo siguen el siguiente formato en el lenguaje Python:\n",
        "\n",
        "```\n",
        "NOMBRE_ESTRUCTURA parámetros_estructura:\n",
        "    # 4 espacios de separación del margen\n",
        "    codigo que quiero ejecutar\n",
        "```\n",
        "\n",
        "**NOTA IMPORTANTE:** Notar el `:` al final de los parámetros.\n",
        "\n"
      ],
      "metadata": {
        "id": "R2mSLe3XKzW8"
      }
    },
    {
      "cell_type": "markdown",
      "source": [
        "## Estructura if - Repaso\n",
        "Primero veamos un repaso de la estructura if. Esta nos permite realizar una serie de instrucciones si se cumple una condición. Sigue la siguiente sintaxis:\n",
        "```python\n",
        "if condicion1:\n",
        "    # Si se cumple condicion 1\n",
        "    ...\n",
        "elif condicion2:\n",
        "    # Si se cumple condicion 2\n",
        "    ...\n",
        "else:\n",
        "    # Si no se cumple ninguna condición\n",
        "    ...\n",
        "```\n",
        "**NOTA IMPORTANTE:** Notar el `:` al final de los nombres de la estructura.\n",
        "\n",
        "Ejemplo:"
      ],
      "metadata": {
        "id": "MFz_7D0dNZAn"
      }
    },
    {
      "cell_type": "code",
      "source": [
        "# Obtengo input del usuario y lo convierto a entero\n",
        "numero = int(input(\"Ingerse un número: \"))\n",
        "\n",
        "# Si la variable número es mayor a 0\n",
        "if numero > 0:\n",
        "    # Notar los 4 espacios para el bloque de código dentro del if.\n",
        "    print(\"El número es positivo\")\n",
        "\n",
        "# Si la variable es menor a 0\n",
        "elif numero < 0:\n",
        "    print(\"El número es negativo\")\n",
        "\n",
        "# Si no se cumple ninguna de las dos.\n",
        "else:\n",
        "    print(\"El número es 0\")"
      ],
      "metadata": {
        "id": "LO_KXkWENu3l",
        "outputId": "51fdcb0b-5855-49c9-c593-c0104d26f4a5",
        "colab": {
          "base_uri": "https://localhost:8080/"
        }
      },
      "execution_count": 1,
      "outputs": [
        {
          "output_type": "stream",
          "name": "stdout",
          "text": [
            "Ingerse un número: 8\n",
            "El número es positivo\n"
          ]
        }
      ]
    },
    {
      "cell_type": "markdown",
      "source": [
        "## Estructura While\n",
        "\n"
      ],
      "metadata": {
        "id": "C9z2mKBFHB4t"
      }
    },
    {
      "cell_type": "markdown",
      "source": [
        "La estructura while nos permite ejecutar una serie de código mientras se cumpla una condición.\n",
        "\n",
        "Este sigue la estructura:\n",
        "```python\n",
        "while condicion:\n",
        "    # Codigo a ejecutar mientras se cumpla la condición\n",
        "    ...\n",
        "```\n",
        "**NOTA IMPORTANTE:** Notar el `:` al final de los nombres de la estructura y los 4 espacios para el código.\n",
        "\n",
        "Veamos un ejemplo:\n",
        "\n"
      ],
      "metadata": {
        "id": "wkkhSh9wOfV9"
      }
    },
    {
      "cell_type": "code",
      "source": [
        "# Obtengo input del usuario y lo convierto a entero\n",
        "numero = int(input(\"Ingrese un número: \"))\n",
        "\n",
        "# Mientras el numero es mayor a 0\n",
        "while numero > 0:\n",
        "    # Imprimo el número\n",
        "    print(numero)\n",
        "    # Resto uno.\n",
        "    numero -= 1"
      ],
      "metadata": {
        "id": "-t2tQNRnPb2a",
        "outputId": "d90f4892-7aed-48ba-de81-67eb609582aa",
        "colab": {
          "base_uri": "https://localhost:8080/"
        }
      },
      "execution_count": 15,
      "outputs": [
        {
          "output_type": "stream",
          "name": "stdout",
          "text": [
            "Ingrese un número: 10\n",
            "10\n",
            "9\n",
            "8\n",
            "7\n",
            "6\n",
            "5\n",
            "4\n",
            "3\n",
            "2\n",
            "1\n"
          ]
        }
      ]
    },
    {
      "cell_type": "markdown",
      "source": [
        "Este programa en cada iteración imprime el número que ingresó el usuario y resta uno hasta que se cumpla que el número sea menor o igual a 0.\n",
        "\n",
        "**NOTA IMPORTANTE:** Utilizamos uno de los operadores combinados que tiene python para operar sobre el número. En vez de realizar `numero = numero - 1` utilizamos el operador `-=`.\n"
      ],
      "metadata": {
        "id": "jI2Ov6Z0Pnnh"
      }
    },
    {
      "cell_type": "markdown",
      "source": [
        "### Mini Desafio 1"
      ],
      "metadata": {
        "id": "nhHFa19TS_Cb"
      }
    },
    {
      "cell_type": "markdown",
      "source": [
        "Desarrollar un programa que permita al usuario ingresar un número y que devuelva la suma de todos los números de 0 hasta ese número. En términos matemáticos:\n",
        "\n",
        "$respuesta = \\sum_{x=0}^{n}x$\n",
        "\n",
        "Para verificar que su resultado es correcto pueden utilizar la fórmula cerrada:\n",
        "$\\sum_{x=0}^{n}x = \\frac{n \\cdot (n+1)}{2} $\n",
        "\n"
      ],
      "metadata": {
        "id": "YsS_AQ3FTCDG"
      }
    },
    {
      "cell_type": "code",
      "source": [
        "# Programa para calcular la suma de números del 0 hasta n usando un bucle while\n",
        "\n",
        "# Solicitar al usuario un número\n",
        "n = int(input(\"Ingrese un número entero positivo: \"))\n",
        "\n",
        "# Validar que el número sea positivo\n",
        "while n < 0:\n",
        "    print(\"El número debe ser positivo. Inténtalo nuevamente.\")\n",
        "    n = int(input(\"Ingrese un número entero positivo: \"))\n",
        "\n",
        "# Inicializar variables\n",
        "suma = 0\n",
        "contador = 0\n",
        "\n",
        "# Calcular la suma usando un while\n",
        "while contador <= n:\n",
        "    suma += contador\n",
        "    contador += 1\n",
        "\n",
        "# Mostrar el resultado\n",
        "print(f\"La suma de los números desde 0 hasta {n} es: {suma}\")\n",
        "\n",
        "# Verificar el resultado usando la fórmula cerrada\n",
        "formula_cerrada = n * (n + 1) // 2\n",
        "print(f\"El resultado usando la fórmula cerrada es: {formula_cerrada}\")\n",
        "\n",
        "# Comparar ambos resultados\n",
        "if suma == formula_cerrada:\n",
        "    print(\"¡El resultado es correcto!\")\n",
        "else:\n",
        "    print(\"Algo salió mal, los resultados no coinciden.\")\n",
        "\n",
        "\n",
        "\n"
      ],
      "metadata": {
        "id": "zRtt9FjUPnQn",
        "outputId": "1a49ee5a-5a99-4e14-de90-9ecd9dc28ac3",
        "colab": {
          "base_uri": "https://localhost:8080/"
        }
      },
      "execution_count": 14,
      "outputs": [
        {
          "output_type": "stream",
          "name": "stdout",
          "text": [
            "Ingrese un número entero positivo: 10\n",
            "La suma de los números desde 0 hasta 10 es: 55\n",
            "El resultado usando la fórmula cerrada es: 55\n",
            "¡El resultado es correcto!\n"
          ]
        }
      ]
    },
    {
      "cell_type": "markdown",
      "source": [
        "## Estructura for"
      ],
      "metadata": {
        "id": "uZoA4KxdHEFm"
      }
    },
    {
      "cell_type": "markdown",
      "source": [
        "La estructura `for` nos permite iterar por elementos de un conjunto.\n",
        "\n",
        "Esta sigue la siguiente estructura:\n",
        "```python\n",
        "for variable in conjunto:\n",
        "   # Lo que quiero ejecutar\n",
        "   ...\n",
        "```\n",
        "El primer conjunto que utilizaremos es el rango o \"range\". Y es utilizado de la siguiente manera:\n",
        "```python\n",
        "range(inicio, fin, paso)\n",
        "```\n",
        "Esto significa que generará un conjunto de valores que sean mayores o iguales al inicio, menores al fin y con el paso establecido.\n",
        "\n",
        "El paso por defecto es 1, veamos un ejemplo:\n",
        "\n"
      ],
      "metadata": {
        "id": "o_TsWQo8UiR3"
      }
    },
    {
      "cell_type": "code",
      "source": [
        "# Por cada x en el rango 0 4\n",
        "for x in range(0, 4):\n",
        "    # Imprimo la variable x\n",
        "    print(x)\n",
        "\n",
        "# PREGUNTA: Antes de correr el código, cual va a ser la salida del programa?"
      ],
      "metadata": {
        "id": "cqiHvCLcVH_V",
        "outputId": "ed78779d-c63c-4b3e-eca4-d0e81e4f5f63",
        "colab": {
          "base_uri": "https://localhost:8080/"
        }
      },
      "execution_count": 1,
      "outputs": [
        {
          "output_type": "stream",
          "name": "stdout",
          "text": [
            "0\n",
            "1\n",
            "2\n",
            "3\n"
          ]
        }
      ]
    },
    {
      "cell_type": "markdown",
      "source": [
        "Cambiando el paso"
      ],
      "metadata": {
        "id": "yQu9BhwDVLD7"
      }
    },
    {
      "cell_type": "code",
      "source": [
        "for x in range(0, 10, 2):\n",
        "    print(x)"
      ],
      "metadata": {
        "id": "6FbW0woGVisq",
        "outputId": "199191fb-4030-46ff-8b09-7686b28461e2",
        "colab": {
          "base_uri": "https://localhost:8080/"
        }
      },
      "execution_count": 16,
      "outputs": [
        {
          "output_type": "stream",
          "name": "stdout",
          "text": [
            "0\n",
            "2\n",
            "4\n",
            "6\n",
            "8\n"
          ]
        }
      ]
    },
    {
      "cell_type": "markdown",
      "source": [
        "También podemos iterar sobre cadenas de texto:"
      ],
      "metadata": {
        "id": "uSFB-CjpXHu9"
      }
    },
    {
      "cell_type": "code",
      "source": [
        "# Por cada letra en la cadena\n",
        "for x in \"hola\":\n",
        "    # Imprimo la letra\n",
        "    print(x)"
      ],
      "metadata": {
        "id": "mWXZ8SJWXKZQ",
        "outputId": "0772833a-f011-4150-e026-c38395922b78",
        "colab": {
          "base_uri": "https://localhost:8080/"
        }
      },
      "execution_count": 3,
      "outputs": [
        {
          "output_type": "stream",
          "name": "stdout",
          "text": [
            "h\n",
            "o\n",
            "l\n",
            "a\n"
          ]
        }
      ]
    },
    {
      "cell_type": "markdown",
      "source": [
        "Más adelante veremos más conjuntos de datos para los cuales el `for` nos será útil.\n",
        "\n",
        "\n"
      ],
      "metadata": {
        "id": "Wyh1EUMQVnc0"
      }
    },
    {
      "cell_type": "markdown",
      "source": [
        "### Mini desafío 2\n"
      ],
      "metadata": {
        "id": "VOxhM7qhVzPz"
      }
    },
    {
      "cell_type": "markdown",
      "source": [
        "\n",
        "Escribir un programa que devuelva la suma de todos los valores pares entre 0 y un número. En términos matemáticos:\n",
        "\n",
        "$respuesta = \\sum_{x=0}^{n/2}2x$\n",
        "\n",
        "Utilizar un for para resolver el problema.\n",
        "\n",
        "\n"
      ],
      "metadata": {
        "id": "7BmpBvqHWo7H"
      }
    },
    {
      "cell_type": "code",
      "source": [
        "n = int(input(\"Ingrese un número natural:\\n\"))\n",
        "total = 0\n",
        "for x in range(0, n, 2 ):\n",
        "  total += x\n",
        "  print(total)\n",
        ""
      ],
      "metadata": {
        "id": "h9SiG9AIWXV4",
        "outputId": "28195e81-6d21-42d2-fa6d-fc5825baeed5",
        "colab": {
          "base_uri": "https://localhost:8080/"
        }
      },
      "execution_count": 34,
      "outputs": [
        {
          "output_type": "stream",
          "name": "stdout",
          "text": [
            "Ingrese un número natural:\n",
            "4\n",
            "0\n",
            "2\n"
          ]
        }
      ]
    },
    {
      "cell_type": "markdown",
      "source": [
        "## Mini desafío 3\n"
      ],
      "metadata": {
        "id": "E4aDU6cmWXpY"
      }
    },
    {
      "cell_type": "markdown",
      "source": [
        "Escribir un programa que genere la siguiente interacción:\n",
        "```\n",
        ">>> Ingrese la cuenta regresiva: 3\n",
        "3\n",
        "2\n",
        "1\n",
        "Despegue!\n",
        "```\n",
        "\n",
        "\n"
      ],
      "metadata": {
        "id": "X-PjRI-VWshD"
      }
    },
    {
      "cell_type": "code",
      "source": [
        "n = int(input(\"Ingrese un número natural :\" ))\n",
        "for x in range(n, 0, -1):\n",
        "    print(x)\n",
        "print(\"Despegue!\")"
      ],
      "metadata": {
        "id": "I5ZO502JWtFQ",
        "outputId": "be019fde-9cf3-4393-e363-9aae37a27230",
        "colab": {
          "base_uri": "https://localhost:8080/"
        }
      },
      "execution_count": 43,
      "outputs": [
        {
          "output_type": "stream",
          "name": "stdout",
          "text": [
            "Ingrese un número natural :3\n",
            "3\n",
            "2\n",
            "1\n",
            "Despegue!\n"
          ]
        }
      ]
    },
    {
      "cell_type": "markdown",
      "source": [
        "## Break y continue"
      ],
      "metadata": {
        "id": "ES0ouRlSHGGP"
      }
    },
    {
      "cell_type": "markdown",
      "source": [
        "Las estructuras de flujo iterativo nos permiten frenarlas desde el código. Para ello utilizamos las palabras `break` o `continue`.\n",
        "\n",
        "### Break\n",
        "La palabra `break` nos permite frenar completamente una iteración desde el código.\n",
        "\n",
        "Veamos un ejemplo:\n",
        ""
      ],
      "metadata": {
        "id": "DHiZTuEvWt1b"
      }
    },
    {
      "cell_type": "code",
      "source": [
        "# Pido un número de iteraciones al usuario\n",
        "numero = int(input(\"Ingrese el número de iteraciones: \"))\n",
        "\n",
        "while numero > 0:\n",
        "    # Si es mayor a 10\n",
        "    if numero > 10:\n",
        "        # Le decimos al usuario que son demasiadas\n",
        "        print(\"Son demasiadas iteraciones para imprimir\")\n",
        "        # Y frenamos el while\n",
        "        break\n",
        "    # Imprimimos x\n",
        "    print(numero)\n",
        "    # Restamos uno al numero\n",
        "    numero -= 1"
      ],
      "metadata": {
        "id": "WA1ylwX3XxMz",
        "outputId": "d0338219-d4d1-402d-ed76-633209b62996",
        "colab": {
          "base_uri": "https://localhost:8080/"
        }
      },
      "execution_count": 45,
      "outputs": [
        {
          "output_type": "stream",
          "name": "stdout",
          "text": [
            "Ingrese el número de iteraciones: 11\n",
            "Son demasiadas iteraciones para imprimir\n"
          ]
        }
      ]
    },
    {
      "cell_type": "markdown",
      "source": [
        "### Continue\n",
        "\n",
        "La palabra `continue` nos permite saltear una iteración sin frenar por completo su ejecución.\n",
        "\n",
        "Veamos un ejemplo:"
      ],
      "metadata": {
        "id": "oPh9dTnvYc54"
      }
    },
    {
      "cell_type": "code",
      "source": [
        "# Por cada i en el rango 0 a 10\n",
        "for i in range(0, 10):\n",
        "    # Si el resto de dividir por dos es 0\n",
        "    if i % 2 == 0:\n",
        "        # Salteamos la iteración\n",
        "        continue\n",
        "    # imprimimos i\n",
        "    print(i)"
      ],
      "metadata": {
        "id": "9hdw2BfNYqmL",
        "outputId": "653c4b75-7e75-4fab-d482-9479db27ef58",
        "colab": {
          "base_uri": "https://localhost:8080/"
        }
      },
      "execution_count": 8,
      "outputs": [
        {
          "output_type": "stream",
          "name": "stdout",
          "text": [
            "1\n",
            "3\n",
            "5\n",
            "7\n",
            "9\n"
          ]
        }
      ]
    },
    {
      "cell_type": "markdown",
      "source": [
        "Notar que los únicos números que se imprimen son los números impares, ya que en el continue le dijimos de saltear los números pares."
      ],
      "metadata": {
        "id": "gFy4VdBsY9E9"
      }
    },
    {
      "cell_type": "markdown",
      "source": [
        "## Mini Desafío 4\n",
        "\n",
        "Realizar un programa que únicamente imprima las vocales de una palabra ingresada por el usuario.\n",
        "\n",
        "Ejemplo:\n",
        "```\n",
        ">>> hola\n",
        "o\n",
        "a\n",
        "```\n",
        ""
      ],
      "metadata": {
        "id": "yt4ixqLyZO1H"
      }
    },
    {
      "cell_type": "code",
      "source": [
        "palabra = input(\"Ingrese una palabra: \")\n",
        "vocales = \"aeiouAEIOU\"\n",
        "for letra in palabra:\n",
        "  if letra in vocales:\n",
        "    print\n",
        "\n",
        "\n"
      ],
      "metadata": {
        "id": "_LM57R7AZlbu",
        "outputId": "980558b6-3bb4-47a7-e288-e6ed01673a3b",
        "colab": {
          "base_uri": "https://localhost:8080/"
        }
      },
      "execution_count": 16,
      "outputs": [
        {
          "output_type": "stream",
          "name": "stdout",
          "text": [
            "Ingrese una palabra: hola\n",
            "o\n",
            "a\n"
          ]
        }
      ]
    },
    {
      "cell_type": "markdown",
      "source": [
        "## Mini desafío 5\n",
        "Realizar un programa que imprima todos los dígitos que ingresó un usuario hasta el primer 0.\n",
        "\n",
        "```\n",
        ">>> 1234401234\n",
        "1\n",
        "2\n",
        "3\n",
        "4\n",
        "4\n",
        "```\n",
        "\n",
        "\n"
      ],
      "metadata": {
        "id": "fPgE5Q0dZl4F"
      }
    },
    {
      "cell_type": "code",
      "source": [
        "numeros = str(input(\"Ingrese un numero: \"))\n",
        "for numero in numeros:\n",
        "  if numero == \"0\":\n",
        "    break\n",
        "  print(numero)\n",
        "\n",
        "\n"
      ],
      "metadata": {
        "id": "-ynXU8u-Z2Lk",
        "outputId": "558b2c16-4f12-42ac-8a01-3997f2d21437",
        "colab": {
          "base_uri": "https://localhost:8080/"
        }
      },
      "execution_count": 30,
      "outputs": [
        {
          "output_type": "stream",
          "name": "stdout",
          "text": [
            "Ingrese un numero: 2354065988\n",
            "2\n",
            "3\n",
            "5\n",
            "4\n"
          ]
        }
      ]
    },
    {
      "cell_type": "markdown",
      "source": [
        "# Strings\n"
      ],
      "metadata": {
        "id": "3BUrNTYDIC_F"
      }
    },
    {
      "cell_type": "markdown",
      "source": [
        "Los strings en python son objetos complejos que nos permiten interactuar con ellos utilizando múltiples funciones y propiedades que ya están embebidas en el objeto en sí."
      ],
      "metadata": {
        "id": "MJs0fb2RZMyr"
      }
    },
    {
      "cell_type": "markdown",
      "source": [
        "## Indexación"
      ],
      "metadata": {
        "id": "ueaIg9QPb5m3"
      }
    },
    {
      "cell_type": "markdown",
      "source": [
        "La interacción más básica es acceder a un carácter, para esto utilizamos la siguiente estructura:\n",
        "```python\n",
        "cadena[indice]\n",
        "```\n",
        "Veamos un ejemplo:\n",
        "\n"
      ],
      "metadata": {
        "id": "3fKhA9-Zb9Ev"
      }
    },
    {
      "cell_type": "code",
      "source": [
        "indice = 0\n",
        "cadena = \"hola\"\n",
        "print(cadena[indice])"
      ],
      "metadata": {
        "id": "wC-DrBNKa7xq",
        "outputId": "a72921f8-2026-408c-bc78-444a31b8587b",
        "colab": {
          "base_uri": "https://localhost:8080/"
        }
      },
      "execution_count": 37,
      "outputs": [
        {
          "output_type": "stream",
          "name": "stdout",
          "text": [
            "h\n"
          ]
        }
      ]
    },
    {
      "cell_type": "markdown",
      "source": [
        "Notar que el índice comienza de 0 es decir en la string \"hola\" las letras tienen el siguiente índice:\n",
        "\n",
        "\n",
        "*  h -> 0\n",
        "*  o -> 1\n",
        "*  l -> 2\n",
        "*  a -> 3\n",
        "\n",
        "Esto nos permite interactuar con cada letra de la cadena de forma independiente.\n",
        "\n",
        "Pero también podemos pedir un rango de los caracteres:\n",
        "\n",
        "```\n",
        "cadena[comienzo:fin]\n",
        "```\n",
        "\n",
        "Veamos un ejemplo:\n",
        "\n"
      ],
      "metadata": {
        "id": "byF-dRzwbBnd"
      }
    },
    {
      "cell_type": "code",
      "source": [
        "# Antes de correr el código, que imprimira?\n",
        "cadena = \"0123456789\"\n",
        "print(cadena[2:4])"
      ],
      "metadata": {
        "id": "3MjH54RXgTMD",
        "outputId": "5ab842fc-3727-4e9e-cdcf-0a6e7c1690aa",
        "colab": {
          "base_uri": "https://localhost:8080/"
        }
      },
      "execution_count": 38,
      "outputs": [
        {
          "output_type": "stream",
          "name": "stdout",
          "text": [
            "23\n"
          ]
        }
      ]
    },
    {
      "cell_type": "markdown",
      "source": [
        "## len"
      ],
      "metadata": {
        "id": "k1r_IHytb1Sl"
      }
    },
    {
      "cell_type": "markdown",
      "source": [
        "\n",
        "Otra interacción importante con los strings es poder obtener su largo, para ello utilizamos la función `len`:\n",
        "\n",
        "```python\n",
        "len(objeto)\n",
        "```\n",
        "\n",
        "Esta función nos devolverá el largo de la cadena. Veamos un ejemplo\n",
        "\n"
      ],
      "metadata": {
        "id": "3WRGLKv_b3bi"
      }
    },
    {
      "cell_type": "code",
      "source": [
        "# Cual será la salida del código?\n",
        "cadena = \"Hola, como estas?\"\n",
        "\n",
        "print(len(cadena))"
      ],
      "metadata": {
        "id": "FuH60DM9bgnt",
        "outputId": "271587a0-2ddb-4e70-89dc-e319988d9157",
        "colab": {
          "base_uri": "https://localhost:8080/"
        }
      },
      "execution_count": 40,
      "outputs": [
        {
          "output_type": "stream",
          "name": "stdout",
          "text": [
            "17\n"
          ]
        }
      ]
    },
    {
      "cell_type": "markdown",
      "source": [
        "Veamos qué ocurre si realizamos esto con el input de un usuario:\n",
        "\n"
      ],
      "metadata": {
        "id": "csppSVxhcLdQ"
      }
    },
    {
      "cell_type": "code",
      "source": [
        "entrada = input()\n",
        "print(len(entrada))"
      ],
      "metadata": {
        "id": "ScIilZElcWuk",
        "outputId": "d83ba3ca-2379-44fb-9fae-6253b4bcb8a5",
        "colab": {
          "base_uri": "https://localhost:8080/"
        }
      },
      "execution_count": 41,
      "outputs": [
        {
          "output_type": "stream",
          "name": "stdout",
          "text": [
            "la concha de tu madre\n",
            "21\n"
          ]
        }
      ]
    },
    {
      "cell_type": "markdown",
      "source": [
        "## Operaciones con strings"
      ],
      "metadata": {
        "id": "8Gymgz_0e0KO"
      }
    },
    {
      "cell_type": "markdown",
      "source": [
        "Podemos realizar operaciones sobre las cadenas como por ejemplo:\n",
        "\n",
        "\n",
        "*   Concatenación o suma ( $ab$)\n",
        "\n"
      ],
      "metadata": {
        "id": "VN49qwTue261"
      }
    },
    {
      "cell_type": "code",
      "source": [
        "a = \"gara\"\n",
        "b = \"pito\"\n",
        "# Concateno las dos cadenas\n",
        "c = a + b\n",
        "# Vemos el resultado\n",
        "print(c)"
      ],
      "metadata": {
        "id": "v42cU-RGfLc0",
        "outputId": "9b970d74-0f95-492f-ec96-0750798ffc50",
        "colab": {
          "base_uri": "https://localhost:8080/"
        }
      },
      "execution_count": 46,
      "outputs": [
        {
          "output_type": "stream",
          "name": "stdout",
          "text": [
            "garapito\n"
          ]
        }
      ]
    },
    {
      "cell_type": "markdown",
      "source": [
        "*   Multiplicación ($n \\cdot a$)"
      ],
      "metadata": {
        "id": "5odHrSSzfTED"
      }
    },
    {
      "cell_type": "code",
      "source": [
        "a = \"ho\"\n",
        "n = 3\n",
        "b = \"2\"\n",
        "j = \"2\"\n",
        "# Multiplico el string\n",
        "c = b+j\n",
        "# Vemos el resultado\n",
        "print(c)"
      ],
      "metadata": {
        "id": "WGndfGRgfcuy",
        "outputId": "ff396e29-64f8-4bb7-e99e-83ae87884f8b",
        "colab": {
          "base_uri": "https://localhost:8080/"
        }
      },
      "execution_count": 48,
      "outputs": [
        {
          "output_type": "stream",
          "name": "stdout",
          "text": [
            "22\n"
          ]
        }
      ]
    },
    {
      "cell_type": "markdown",
      "source": [
        "*   La función contine o `in`. Nos permite saber si un string contiene a otro"
      ],
      "metadata": {
        "id": "1CjSdIT4fkfY"
      }
    },
    {
      "cell_type": "code",
      "source": [
        "a = \"ol\"\n",
        "b = \"Hola\"\n",
        "\n",
        "# Pregunto si a esta en b\n",
        "c = a in b\n",
        "# Vemos el resultado\n",
        "print(c)"
      ],
      "metadata": {
        "id": "NAE7WRI4fxL5"
      },
      "execution_count": null,
      "outputs": []
    },
    {
      "cell_type": "markdown",
      "source": [
        "Existen muchas más operaciones que podemos realizar sobre las cadenas, podemos ver estas en este [link](https://docs.python.org/3/library/stdtypes.html#string-methods).\n",
        ""
      ],
      "metadata": {
        "id": "jO9EyA93gJPY"
      }
    },
    {
      "cell_type": "markdown",
      "source": [
        "## Caracteres blancos"
      ],
      "metadata": {
        "id": "Q1T5Rs6agEn0"
      }
    },
    {
      "cell_type": "markdown",
      "source": [
        "En los caracteres existe lo que se denomina caracteres blancos, estos son caracteres como el `espacio` o el `enter` que no representan una letra si no una separación entre ellas.\n",
        "\n",
        "Los más usados son el espacio `\" \"` o el enter `\"\\n\"`.\n",
        "\n",
        "Veamos un ejemplo:"
      ],
      "metadata": {
        "id": "nxNybIANcuq6"
      }
    },
    {
      "cell_type": "code",
      "source": [
        "cadena = \"Hola como estas?\\nMi nombre es franco carrasco y te llamo desde la empresa tu semen a mi para cogerte garapito ...\"\n",
        "print(cadena)"
      ],
      "metadata": {
        "id": "ISa7C0fieKZz",
        "outputId": "037a64c1-5da8-436f-cbea-df98146c9e2a",
        "colab": {
          "base_uri": "https://localhost:8080/"
        }
      },
      "execution_count": 54,
      "outputs": [
        {
          "output_type": "stream",
          "name": "stdout",
          "text": [
            "Hola como estas?\n",
            "Mi nombre es franco carrasco y te llamo desde la empresa tu semen a mi para cogerte garapito ...\n"
          ]
        }
      ]
    },
    {
      "cell_type": "markdown",
      "source": [
        "## Funciones de string\n",
        "\n",
        "Las cadenas tienen muchas funciones dentro de ellas que nos permiten realizar operaciones frecuentemente usadas sobre ellas. La lista completa pueden encontrarla en la página de la documentación oficial de Python en este [link](https://docs.python.org/3/library/stdtypes.html#string-methods).\n",
        "\n",
        "Para utilizar estas funciones utilizamos la siguiente estructura:\n",
        "```\n",
        "cadena.nombre_funcion(parametros)\n",
        "```\n",
        "\n",
        "Veamos un ejemplo:\n"
      ],
      "metadata": {
        "id": "m_sIo06MgiGv"
      }
    },
    {
      "cell_type": "code",
      "source": [
        "cadena = \"chota\"\n",
        "# Capitalizamos la cadena\n",
        "cadena2 = cadena.capitalize()\n",
        "print(cadena)\n",
        "print(cadena2)"
      ],
      "metadata": {
        "id": "DtESlxcfhDTw",
        "outputId": "ef91388c-cc6d-4cb1-ad7f-55cc7db0a8b6",
        "colab": {
          "base_uri": "https://localhost:8080/"
        }
      },
      "execution_count": 56,
      "outputs": [
        {
          "output_type": "stream",
          "name": "stdout",
          "text": [
            "chota\n",
            "Chota\n"
          ]
        }
      ]
    },
    {
      "cell_type": "markdown",
      "source": [
        "O podemos buscar en el texto el índice de una palabra o letra:"
      ],
      "metadata": {
        "id": "CR-nq4ZthQSA"
      }
    },
    {
      "cell_type": "code",
      "source": [
        "cadena = \"Hola, como estas?\"\n",
        "indice = cadena.find(\"como\")\n",
        "\n",
        "print(indice)"
      ],
      "metadata": {
        "id": "E55DpIEJhVQ9",
        "outputId": "57835252-3ac8-4c32-e3ef-ff6fc24d21e7",
        "colab": {
          "base_uri": "https://localhost:8080/"
        }
      },
      "execution_count": 58,
      "outputs": [
        {
          "output_type": "stream",
          "name": "stdout",
          "text": [
            "6\n"
          ]
        }
      ]
    },
    {
      "cell_type": "markdown",
      "source": [
        "**Pregunta**\n",
        "¿Que devolverá el siguiente código?"
      ],
      "metadata": {
        "id": "PwnmQCtS2i4k"
      }
    },
    {
      "cell_type": "code",
      "source": [
        "cadena = \"Hola, como estas?\"\n",
        "indice = cadena.find(\"Como\")\n",
        "\n",
        "print(indice)\n",
        "# cuando no lo encuentra tira -1\n"
      ],
      "metadata": {
        "id": "7ieHX69K2gf8",
        "outputId": "556254a2-b1f9-4bc1-ccbd-9f6d3dfb9266",
        "colab": {
          "base_uri": "https://localhost:8080/"
        }
      },
      "execution_count": 60,
      "outputs": [
        {
          "output_type": "stream",
          "name": "stdout",
          "text": [
            "-1\n"
          ]
        }
      ]
    },
    {
      "cell_type": "markdown",
      "source": [
        "Estos son únicamente algunos ejemplos de funciones que tienen los strings, a medida que vayan aprendiendo a programar irán aprendiendo las que más utilicen de memoria y el resto lo buscaran en google."
      ],
      "metadata": {
        "id": "yQqJwy3D2VID"
      }
    },
    {
      "cell_type": "markdown",
      "source": [
        "## Mini desafío 6\n",
        "\n",
        "Pedir el input de un string al usuario y decir si esa cadena es un [palindromo](https://es.wikipedia.org/wiki/Pal%C3%ADndromo).\n",
        "\n",
        "Ejemplos:\n",
        "```\n",
        ">>> Hola\n",
        "No es palindromo.\n",
        "```\n",
        "```\n",
        ">>> Neuquen\n",
        "Es palindromo.\n",
        "```\n",
        "```\n",
        ">>> Casa\n",
        "No es palindromo.\n",
        "```\n",
        "```\n",
        ">>> A luna ese anula\n",
        "Es palindromo.\n",
        "```\n",
        "\n",
        "**TIP:** con la función `.lower()` de string pueden convertir las mayúsculas en minúsculas.\n",
        "\n",
        "**TIP2:** Con la función `.replace(a, b)` pueden reemplazar caracteres.\n",
        "\n",
        "\n"
      ],
      "metadata": {
        "id": "NfnJcPYc2_vg"
      }
    },
    {
      "cell_type": "code",
      "source": [
        "palabra = input(\"ingrese una palabra garabito: \")\n",
        "palabra2 = palabra[::-1]\n",
        "print(palabra)\n",
        "if palabra.lower() == palabra2.lower():\n",
        "  print(\"la palabra es un palindromo\" )\n",
        "else:\n",
        "  print(\"la palabra me la suda\")\n"
      ],
      "metadata": {
        "id": "4Lz7EePQ3pxJ",
        "outputId": "977f9f99-f628-42ba-d4e6-a7ffcda89bbe",
        "colab": {
          "base_uri": "https://localhost:8080/"
        }
      },
      "execution_count": 73,
      "outputs": [
        {
          "output_type": "stream",
          "name": "stdout",
          "text": [
            "ingrese una palabra garabito: Neuquen\n",
            "Neuquen\n",
            "la palabra me la suda\n"
          ]
        }
      ]
    },
    {
      "cell_type": "markdown",
      "source": [
        "# Acceso a archivos\n"
      ],
      "metadata": {
        "id": "W9_Rnm_FIItx"
      }
    },
    {
      "cell_type": "markdown",
      "source": [
        "Para trabajar con archivos vamos a utilizar una estructura que nos facilita su manipulación y lectura.\n",
        "\n",
        "```python\n",
        "with open(\"/ruta/del/archivo/\", modo_de_acceso) as fp:\n",
        "    # lo que necesite hacer con el archivo\n",
        "    ...\n",
        "```\n",
        "\n",
        "Algunos modos de acceso disponibles son:\n",
        "\n",
        "\n",
        "*   `\"r\"`: Lectura.\n",
        "*   `\"w\"`: Escritura.\n",
        "*   `\"rw\"`: Lectura y escritura.\n",
        "*   `\"rb\"`: Lectura binaria.\n",
        "*   `\"wb\"`: Escritura binaria.\n",
        "\n",
        "Pueden ver todos en este [link](https://docs.python.org/3/library/functions.html#open).\n",
        "\n",
        "Veamos un ejemplo de escritura:\n"
      ],
      "metadata": {
        "id": "_pN5fWbi24H9"
      }
    },
    {
      "cell_type": "code",
      "source": [
        "# Abro el archivo en modo escritura y lo asigno a la variable fp\n",
        "with open(\"archivo.txt\", \"w\") as fp:\n",
        "    # Escribo en fp un texto.\n",
        "    fp.write(\"Hola como estas?\\n\")\n"
      ],
      "metadata": {
        "id": "ulkteQ4zDhHO"
      },
      "execution_count": null,
      "outputs": []
    },
    {
      "cell_type": "markdown",
      "source": [
        "Para ver el resultado podemos seleccionar la carpeta del menú de la izquierda, y abrir el archivo llamado `archivo.txt` para ver su contenido.\n",
        "\n",
        "Luego podemos leer este archivo:"
      ],
      "metadata": {
        "id": "cMiovtFmDrMj"
      }
    },
    {
      "cell_type": "code",
      "execution_count": null,
      "metadata": {
        "id": "6eqUaxXKFc2f"
      },
      "outputs": [],
      "source": [
        "# Abro el archivo en modo lectura y lo asigno a la variable fp\n",
        "with open(\"archivo.txt\", \"r\") as fp:\n",
        "    # Imprimo lo que leo del archivo.\n",
        "    print(fp.read())"
      ]
    },
    {
      "cell_type": "markdown",
      "source": [
        "Al igual que los strings el archivo tiene muchas funciones embebidas que nos permiten trabajar con él.\n",
        "\n",
        "Veamos el siguiente ejemplo:\n",
        "\n"
      ],
      "metadata": {
        "id": "yfjRXIhpENnM"
      }
    },
    {
      "cell_type": "code",
      "source": [
        "# Abro el archivo en modo escritura y lo asigno a la variable fp2\n",
        "with open(\"archivo2.txt\", \"w\") as fp2:\n",
        "    # Escribo en fp2 un texto.\n",
        "    fp2.write(\"Hola como estas?\\nMuy bien y vos?\\nBien bien, aca aprendido un poco de python.\")\n",
        "\n",
        "# Abro el archivo en modo lectura y lo asigno a la variable fp2\n",
        "with open(\"archivo2.txt\", \"r\") as fp2:\n",
        "    # leo la primera linea\n",
        "    print(fp2.readline())\n",
        "    # leo la segunda linea\n",
        "    print(fp2.readline())\n",
        "    # leo la tercera linea\n",
        "    print(fp2.readline())"
      ],
      "metadata": {
        "id": "hfAWGZm4En6T"
      },
      "execution_count": null,
      "outputs": []
    },
    {
      "cell_type": "markdown",
      "source": [
        "La función `.readline()` nos devuelve hasta el enter.\n",
        "\n",
        "**Pregunta**: Porque en la salida de ese código hay dos enter entre cada frase?"
      ],
      "metadata": {
        "id": "X6NZalmiFcW3"
      }
    },
    {
      "cell_type": "markdown",
      "source": [
        "# Ejercicios integradores\n"
      ],
      "metadata": {
        "id": "vttbHJROYTp8"
      }
    },
    {
      "cell_type": "markdown",
      "source": [
        "## 1. Calculadora 3.0\n",
        "Se pide implementar una calculadora interactiva que permita ingresar operaciones hasta recibir el comando `off`.\n",
        "\n",
        "Veamos un ejemplo:\n",
        "```\n",
        ">>> 14\n",
        ">>> +\n",
        ">>> 3\n",
        "17\n",
        ">>> *\n",
        ">>> 2\n",
        "34\n",
        ">>> /\n",
        ">>> 3\n",
        "11.333333\n",
        ">>> off\n",
        "```\n",
        "\n",
        "**TIP:** Usar la estructura `while`.\n"
      ],
      "metadata": {
        "id": "PHzqQt7xYVov"
      }
    },
    {
      "cell_type": "code",
      "source": [
        "Resultado = 0\n",
        "primer_numero = \"\"\n",
        "while primer_numero != \"off\" :\n",
        "  primer_numero = (input(\"ingrese el primer numero: \"))\n",
        "\n",
        "  if primer_numero == \"off\":\n",
        "    print(\"off\")\n",
        "    break\n",
        "  else:\n",
        "    primer_numero = float(primer_numero)\n",
        "  operador=(input(\"escriba un operador +,*,/,-:\" ))\n",
        "  if operador == \"off\":\n",
        "    print(\"off\")\n",
        "    break\n",
        "  segundo_numero = (input(\"ingrese el segundo numero: \" ))\n",
        "\n",
        "  if segundo_numero == \"off\":\n",
        "    print(\"off\")\n",
        "    break\n",
        "  try:\n",
        "      segundo_numero = float(segundo_numero)\n",
        "  except ValueError:\n",
        "        print(\"Entrada inválida. Ingresa un número o 'off'.\")\n",
        "        continue\n",
        "\n",
        "  if operador == \"+\":\n",
        "    Resultado = primer_numero + segundo_numero\n",
        "  elif operador == \"-\":\n",
        "    Resultado = primer_numero - segundo_numero\n",
        "  elif operador == \"*\":\n",
        "    Resultado = primer_numero * segundo_numero\n",
        "  elif operador == \"/\":\n",
        "    Resultado = primer_numero / segundo_numero\n",
        "    if segundo_numero == 0:\n",
        "            print(\"Error: división por cero.\")\n",
        "            continue\n",
        "\n",
        "  print(Resultado)\n",
        "\n",
        "\n",
        "\n",
        ""
      ],
      "metadata": {
        "id": "X_O7x6e-ELTL",
        "outputId": "878efa2b-0b10-491a-c271-37f8be0cdb65",
        "colab": {
          "base_uri": "https://localhost:8080/"
        }
      },
      "execution_count": 4,
      "outputs": [
        {
          "output_type": "stream",
          "name": "stdout",
          "text": [
            "ingrese el primer numero: 5\n",
            "escriba un operador +,*,/,-:*\n",
            "ingrese el segundo numero: 5\n",
            "25.0\n",
            "ingrese el primer numero: off\n",
            "off\n"
          ]
        }
      ]
    },
    {
      "cell_type": "markdown",
      "source": [
        "## 2. Conjetura de Collatz\n",
        "El matemático Lothar Collatz conjeturo que la siguiente secuencia siempre converge a 1 en una cantidad finita de pasos para todo número entero positivo.\n",
        "\n",
        "*  Si el número es par, lo divido por 2.\n",
        "*  Si el número es impar, lo multiplico por 3 y le sumo 1.\n",
        "\n",
        "En términos matemáticos:\n",
        "\n",
        "si $f(n)$ es par &nbsp;&nbsp;&nbsp;&nbsp; $f(n+1) = \\frac{f(n)}{2}$\n",
        "\n",
        "si $f(n)$ es impar $f(n+1) = 3 \\cdot f(n) +1$\n",
        "\n",
        "La secuencia se inicia con $f(0)$ con un número provisto por el usuario.\n",
        "\n",
        "Se pide imprimir la cantidad de pasos necesarios para llegar a 1.\n",
        "\n",
        "Ejemplo:\n",
        "\n",
        "$3 → 10 → 5 → 16 → 8 → 4 → 2 → 1$\n",
        "\n",
        "```\n",
        ">>> 3\n",
        "7\n",
        "```\n",
        "\n",
        "$4 → 2 → 1$\n",
        "\n",
        "```\n",
        ">>> 4\n",
        "2\n",
        "```\n"
      ],
      "metadata": {
        "id": "SltD_0FTYwUC"
      }
    },
    {
      "cell_type": "code",
      "source": [
        "numero = 0\n",
        "numero = int(input(\"ingrese cualquier numero: \"))\n",
        "\n",
        "while numero != 1:\n",
        "  if numero % 2 == 0:\n",
        "    numero = numero / 2\n",
        "  else:\n",
        "    numero = (3*numero) + 1\n",
        "  print (numero)\n",
        "\n"
      ],
      "metadata": {
        "id": "FZkVSyBPbo6O",
        "outputId": "e75bba4b-90ca-492a-c3bd-3a2ea9f104e9",
        "colab": {
          "base_uri": "https://localhost:8080/"
        }
      },
      "execution_count": 6,
      "outputs": [
        {
          "output_type": "stream",
          "name": "stdout",
          "text": [
            "ingrese cualquier numero: 5\n",
            "16\n",
            "8.0\n",
            "4.0\n",
            "2.0\n",
            "1.0\n"
          ]
        }
      ]
    },
    {
      "cell_type": "markdown",
      "source": [
        "## 3. Triángulo rectángulo\n",
        "\n",
        "Escribir un programa que reciba la altura de un triángulo e imprima en la consola el triángulo pedido.\n",
        "\n",
        "Ejemplos:\n",
        "```\n",
        ">>> 3\n",
        "|\\\n",
        "| \\\n",
        "|__\\\n",
        "```\n",
        "```\n",
        ">>> 4\n",
        "|\\\n",
        "| \\\n",
        "|  \\\n",
        "|___\\\n",
        "```"
      ],
      "metadata": {
        "id": "93gR4raNd8PW"
      }
    },
    {
      "cell_type": "code",
      "source": [
        "from google.colab import drive\n",
        "drive.mount('/content/drive')"
      ],
      "metadata": {
        "id": "a4J1755vWRUA"
      },
      "execution_count": null,
      "outputs": []
    },
    {
      "cell_type": "code",
      "source": [],
      "metadata": {
        "id": "ggsyNj2rhvTM"
      },
      "execution_count": null,
      "outputs": []
    },
    {
      "cell_type": "markdown",
      "source": [
        "## 4. Triángulo de pascal\n",
        "\n",
        "Escribir un programa que imprima el [triángulo de pascal](https://es.wikipedia.org/wiki/Tri%C3%A1ngulo_de_Pascal) de altura n.\n",
        "\n",
        "Ejemplo:\n",
        "```\n",
        ">>> 2\n",
        "1\n",
        "1 1\n",
        "```\n",
        "```\n",
        ">>> 3\n",
        " 1\n",
        "1 1\n",
        "1 2 1\n",
        "```\n",
        "```\n",
        ">>> 4\n",
        "  1\n",
        " 1 1\n",
        "1 2 1\n",
        "1 3 3 1\n",
        "```"
      ],
      "metadata": {
        "id": "hEoJOeBlh7Us"
      }
    },
    {
      "cell_type": "code",
      "source": [],
      "metadata": {
        "id": "bEgnuVExiXOC"
      },
      "execution_count": null,
      "outputs": []
    }
  ]
}