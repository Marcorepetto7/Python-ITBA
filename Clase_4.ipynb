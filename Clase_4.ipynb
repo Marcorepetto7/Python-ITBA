{
  "nbformat": 4,
  "nbformat_minor": 0,
  "metadata": {
    "colab": {
      "name": "Clase 4.ipynb",
      "provenance": []
    },
    "kernelspec": {
      "name": "python3",
      "display_name": "Python 3"
    },
    "language_info": {
      "name": "python"
    }
  },
  "cells": [
    {
      "cell_type": "markdown",
      "source": [
        "<img src=\"https://raw.githubusercontent.com/ITBA-Python/Certificacion-Profesional-Python/main/assets/clase2/Headers%20c%C3%A1talogo_Mesa%20de%20trabajo%201%20copia%2044.jpg\" width=\"800\">\n",
        "\n",
        "\n",
        "\n",
        "# Certificación profesional de Python\n",
        "\n",
        "# Clase 4\n",
        "\n",
        "El objetivo de la clase es seguir sumando experiencia de trabajo con programación aprendiendo los siguientes temas.\n",
        "\n",
        "*   Listas\n",
        "*   Tuplas\n",
        "*   Diccionarios\n",
        "\n",
        "La clase incluye teoría y práctica sobre cada tema aprendido.\n",
        "\n",
        "<img src=\"https://raw.githubusercontent.com/ITBA-Python/Certificacion-Profesional-Python/main/assets/clase2/LOGOTIPO_sin_fondo_positivo_sin_bajada.png\" width=\"400\">\n",
        "\n"
      ],
      "metadata": {
        "id": "UShQ7MbxF39r"
      }
    },
    {
      "cell_type": "markdown",
      "source": [
        "# Listas y tuplas"
      ],
      "metadata": {
        "id": "iSdhysfhZz05"
      }
    },
    {
      "cell_type": "markdown",
      "source": [
        "## Listas"
      ],
      "metadata": {
        "id": "ud3aeCY9Z1vi"
      }
    },
    {
      "cell_type": "markdown",
      "source": [
        "Las listas son un conjunto ordenado de variables que nos permite almacenar e interactuar tanto individualmente como en el conjunto.\n",
        "\n",
        "Para crear una lista se sigue el siguiente formato:\n",
        "```\n",
        "lista = [variable1, variable2, ... ]\n",
        "```\n",
        "Veamos un ejemplo:\n"
      ],
      "metadata": {
        "id": "WtVGFIwHZ3Zg"
      }
    },
    {
      "cell_type": "code",
      "source": [
        "# Creo una lista con 8 variables\n",
        "lista = [0, 1, 2, \"tres\", 'cuatro', True, False, 0.5]\n",
        "print(lista)"
      ],
      "metadata": {
        "id": "Qmlt3JYZZ1Qb",
        "outputId": "4ab5bd43-db40-4c12-c0b9-2846aaa4d444",
        "colab": {
          "base_uri": "https://localhost:8080/"
        }
      },
      "execution_count": 2,
      "outputs": [
        {
          "output_type": "stream",
          "name": "stdout",
          "text": [
            "[0, 1, 2, 'tres', 'cuatro', True, False, 0.5]\n"
          ]
        }
      ]
    },
    {
      "cell_type": "markdown",
      "source": [
        "### List Comprehension"
      ],
      "metadata": {
        "id": "6ce-j2J9d9Qn"
      }
    },
    {
      "cell_type": "markdown",
      "source": [
        "También podemos crear una lista utilizando un mecanismo que se llama \"list comprehension\". Este utiliza la estructura for para crear una lista:\n",
        "```python\n",
        "lista = [variable for variable in iterable]\n",
        "```\n",
        "Veamos un ejemplo:"
      ],
      "metadata": {
        "id": "EqafietXcaCX"
      }
    },
    {
      "cell_type": "code",
      "source": [
        "# Creamos una lista con los valores 0, 1, 2, 3\n",
        "lista = [x for x in range(0,4)]\n",
        "\n",
        "print(lista)\n",
        "\n",
        "# Creamos una lista con los valores 0, 2, 4, 6\n",
        "lista2 = [2*x for x in range(0,4)]\n",
        "\n",
        "print(lista2)"
      ],
      "metadata": {
        "id": "HVqCteY6dOwA",
        "outputId": "e5e7f6ff-f992-44a6-968e-9131069f47da",
        "colab": {
          "base_uri": "https://localhost:8080/"
        }
      },
      "execution_count": 3,
      "outputs": [
        {
          "output_type": "stream",
          "name": "stdout",
          "text": [
            "[0, 1, 2, 3]\n",
            "[0, 2, 4, 6]\n"
          ]
        }
      ]
    },
    {
      "cell_type": "markdown",
      "source": [
        "### Acceso a las varibles"
      ],
      "metadata": {
        "id": "gQ0AoZjAd_nm"
      }
    },
    {
      "cell_type": "markdown",
      "source": [
        "Podemos acceder a las variables utilizando la siguiente estructura:\n",
        "```\n",
        "lista[posicion]\n",
        "```\n",
        "\n",
        "**NOTA IMPORTANTE:** Las posiciones comienzan desde 0.\n",
        "\n",
        "\n",
        "Veamos un ejemplo:"
      ],
      "metadata": {
        "id": "-c6MGxGieB1A"
      }
    },
    {
      "cell_type": "code",
      "source": [
        "# Creamos una lista con los valores 0, 1, 2, 3, 4, 5, 6, 7, 8, 9\n",
        "lista = [ x for x in range(0, 10)]\n",
        "\n",
        "print(lista[1])\n",
        "print(lista[2])"
      ],
      "metadata": {
        "id": "33qQSbYyeK-Y",
        "outputId": "f1eba210-ec4e-4cd6-cb03-e0dfd64581fa",
        "colab": {
          "base_uri": "https://localhost:8080/"
        }
      },
      "execution_count": 4,
      "outputs": [
        {
          "output_type": "stream",
          "name": "stdout",
          "text": [
            "1\n",
            "2\n"
          ]
        }
      ]
    },
    {
      "cell_type": "markdown",
      "source": [
        "Podemos interactuar con estas variables como cualquier otra:"
      ],
      "metadata": {
        "id": "7UklBNLgeaXl"
      }
    },
    {
      "cell_type": "code",
      "source": [
        "# Creamos una lista con los valores 0, 1, 2, 3, 4, 5, 6, 7, 8, 9\n",
        "lista = [ x for x in range(0, 10)]\n",
        "\n",
        "print(lista)\n",
        "print(lista[2])\n",
        "\n",
        "# Le asignamos el valor a la posición\n",
        "lista[2] = \"Hola\"\n",
        "\n",
        "print(lista)\n",
        "print(lista[2])"
      ],
      "metadata": {
        "id": "afube1K4elH0",
        "outputId": "ba11a6b0-44ff-4295-f19b-f62ce31974ce",
        "colab": {
          "base_uri": "https://localhost:8080/"
        }
      },
      "execution_count": 5,
      "outputs": [
        {
          "output_type": "stream",
          "name": "stdout",
          "text": [
            "[0, 1, 2, 3, 4, 5, 6, 7, 8, 9]\n",
            "2\n",
            "[0, 1, 'Hola', 3, 4, 5, 6, 7, 8, 9]\n",
            "Hola\n"
          ]
        }
      ]
    },
    {
      "cell_type": "markdown",
      "source": [
        "**Pregunta:**\n",
        "\n",
        "¿Que imprimirá el siguiente código?"
      ],
      "metadata": {
        "id": "l7cIICuBhPXF"
      }
    },
    {
      "cell_type": "code",
      "source": [
        "lista = [2*x for x in range(0,3)]\n",
        "\n",
        "for x in range(0,3):\n",
        "    print(lista[x])\n",
        "    #va a imprimir la lista de 0 1 2 multiplicada por 2 dividida en distintas secciones"
      ],
      "metadata": {
        "id": "TAw7XGNfhNVt",
        "outputId": "198b4210-cad5-452c-ee16-636d44a4499e",
        "colab": {
          "base_uri": "https://localhost:8080/"
        }
      },
      "execution_count": 2,
      "outputs": [
        {
          "output_type": "stream",
          "name": "stdout",
          "text": [
            "0\n",
            "2\n",
            "4\n"
          ]
        }
      ]
    },
    {
      "cell_type": "markdown",
      "source": [
        "### Operaciones con listas"
      ],
      "metadata": {
        "id": "YcUMWGSCC2rF"
      }
    },
    {
      "cell_type": "markdown",
      "source": [
        "Al igual que con las strings, podemos realizar operaciones sobre las listas.\n",
        "\n",
        "Por ejemplo sumar dos listas:"
      ],
      "metadata": {
        "id": "L2UQJWicC4P3"
      }
    },
    {
      "cell_type": "code",
      "source": [
        "a = [1, 2]\n",
        "b = [3, 4]\n",
        "c = a + b\n",
        "print(c)"
      ],
      "metadata": {
        "id": "COiC5V4MDAgg",
        "outputId": "561d0903-f682-4106-e14f-112c5342425e",
        "colab": {
          "base_uri": "https://localhost:8080/"
        }
      },
      "execution_count": 7,
      "outputs": [
        {
          "output_type": "stream",
          "name": "stdout",
          "text": [
            "[1, 2, 3, 4]\n"
          ]
        }
      ]
    },
    {
      "cell_type": "markdown",
      "source": [
        "También podemos verificar si un elemento se encuentra en la lista:"
      ],
      "metadata": {
        "id": "qXc9q1dxDERL"
      }
    },
    {
      "cell_type": "code",
      "source": [
        "a = [1,2,3,4,5]\n",
        "\n",
        "print(5 in a)\n",
        "print(9 in a)"
      ],
      "metadata": {
        "colab": {
          "base_uri": "https://localhost:8080/"
        },
        "id": "kMjqvOPYDHCu",
        "outputId": "493811ed-4888-42cc-9fbd-9666fd690c88"
      },
      "execution_count": 8,
      "outputs": [
        {
          "output_type": "stream",
          "name": "stdout",
          "text": [
            "True\n",
            "False\n"
          ]
        }
      ]
    },
    {
      "cell_type": "markdown",
      "source": [
        "### Funciones de listas\n",
        "\n"
      ],
      "metadata": {
        "id": "YldhZ48hgzDZ"
      }
    },
    {
      "cell_type": "markdown",
      "source": [
        "Al igual que los strings las listas tienen funciones dentro de ellas que podemos utilizar de la siguiente manera:\n",
        "```\n",
        "lista.funcion(parametros)\n",
        "```\n",
        "Podemos encontrar una lista de estas funciones [aca](https://docs.python.org/3/tutorial/datastructures.html#more-on-lists).\n",
        "\n",
        "Veamos un ejemplo:"
      ],
      "metadata": {
        "id": "YHvmKGF64dRr"
      }
    },
    {
      "cell_type": "code",
      "source": [
        "# Creamos una lista con los valores 0, 1, 2, 3\n",
        "lista = [x for x in range(4)]\n",
        "\n",
        "print(lista)\n",
        "\n",
        "# Damos vuelta la lista\n",
        "lista.reverse()\n",
        "\n",
        "# PREGUNTA: Que va a imprimir la siguiente función?\n",
        "print(lista)"
      ],
      "metadata": {
        "id": "z4W2BIy3gwZF",
        "outputId": "aae565a3-14e4-4c78-97b0-df73c647eb74",
        "colab": {
          "base_uri": "https://localhost:8080/"
        }
      },
      "execution_count": 3,
      "outputs": [
        {
          "output_type": "stream",
          "name": "stdout",
          "text": [
            "[0, 1, 2, 3]\n",
            "[3, 2, 1, 0]\n"
          ]
        }
      ]
    },
    {
      "cell_type": "markdown",
      "source": [
        "También podemos agregar o quitar valores de las listas:"
      ],
      "metadata": {
        "id": "B8ESm9lWrB7p"
      }
    },
    {
      "cell_type": "code",
      "source": [
        "lista = [0, 1]\n",
        "\n",
        "print(lista)\n",
        "\n",
        "# Agregamos el valor 10 al final de la lista\n",
        "lista.append(10)\n",
        "# Agregamos el valor 1 al final de la lista\n",
        "lista.append(1)\n",
        "print(lista)\n",
        "\n",
        "# Sacamos la primera ocurrencia del valor 1\n",
        "lista.remove(1)\n",
        "print(lista)\n",
        "# Sacamos la otra\n",
        "lista.remove(1)\n",
        "print(lista)\n"
      ],
      "metadata": {
        "id": "2o6aFtwIrEv2",
        "outputId": "2796009e-90e8-4ed4-d363-1872fbbd99f3",
        "colab": {
          "base_uri": "https://localhost:8080/"
        }
      },
      "execution_count": 4,
      "outputs": [
        {
          "output_type": "stream",
          "name": "stdout",
          "text": [
            "[0, 1]\n",
            "[0, 1, 10, 1]\n",
            "[0, 10, 1]\n",
            "[0, 10]\n"
          ]
        }
      ]
    },
    {
      "cell_type": "markdown",
      "source": [
        "### Mini Desafio 1\n"
      ],
      "metadata": {
        "id": "irb_lneKiKo0"
      }
    },
    {
      "cell_type": "markdown",
      "source": [
        "\n",
        "Utilizando list comprehension, multiplicar cada variable por un número ingresado por el usuario de la siguiente lista:\n",
        "```\n",
        "lista = [1, 3, 5, 7, 13, 17]\n",
        "```\n",
        "Por ejemplo:\n",
        "```\n",
        ">>> 0\n",
        "[0, 0, 0, 0, 0, 0]\n",
        "```"
      ],
      "metadata": {
        "id": "YcTH24y6j4Lu"
      }
    },
    {
      "cell_type": "code",
      "source": [
        "lista = [1, 3, 5, 7, 13, 17]\n",
        "numero = int(input(\"ingrese un numero virgo: \"))\n",
        "resultado = [numero*x for x in lista]\n",
        "print(resultado)\n",
        "\n"
      ],
      "metadata": {
        "id": "wmdOSl71iEaD",
        "outputId": "16f364d3-b225-4735-cbf6-ff2cf46a6a84",
        "colab": {
          "base_uri": "https://localhost:8080/"
        }
      },
      "execution_count": 16,
      "outputs": [
        {
          "output_type": "stream",
          "name": "stdout",
          "text": [
            "ingrese un numero virgo: 2\n",
            "[2, 6, 10, 14, 26, 34]\n"
          ]
        }
      ]
    },
    {
      "cell_type": "markdown",
      "source": [
        "### Mini Desafio 2\n"
      ],
      "metadata": {
        "id": "Oa4GTxwki23h"
      }
    },
    {
      "cell_type": "markdown",
      "source": [
        "Imprimir de la lista las siguientes cosas:\n",
        "\n",
        "\n",
        "*   La primera mitad de la lista\n",
        "*   La lista ordenada de menor a mayor\n",
        "*   La lista ordenada de mayor a menor\n",
        "*   La segunda mitad de la lista ordenada de mayor a menor\n",
        "\n",
        "La lista es la siguiente:\n",
        "```python\n",
        "lista = [14, 3, 6, 27]\n",
        "```\n",
        "La respuesta esperada es:\n",
        "```python\n",
        "[14, 3]\n",
        "[3, 6, 14, 27]\n",
        "[27, 14, 6, 3]\n",
        "[6, 3]\n",
        "```\n",
        "**TIP**: Ver en las funciones incluidas en las listas."
      ],
      "metadata": {
        "id": "I3gJZx2Qj6pA"
      }
    },
    {
      "cell_type": "code",
      "source": [
        "lista = [14, 3, 6, 27]\n",
        "print (lista[0:2])\n",
        "sorted (lista)\n",
        "print(lista)\n",
        "lista2= sorted (lista, reverse= True)\n",
        "print(lista2)\n",
        "print(lista2[2:4])"
      ],
      "metadata": {
        "id": "jTiFPtQui2bq",
        "outputId": "d7e19231-b647-4982-9669-87752cb844e4",
        "colab": {
          "base_uri": "https://localhost:8080/"
        }
      },
      "execution_count": 31,
      "outputs": [
        {
          "output_type": "stream",
          "name": "stdout",
          "text": [
            "[14, 3]\n",
            "[14, 3, 6, 27]\n",
            "[27, 14, 6, 3]\n",
            "[6, 3]\n"
          ]
        }
      ]
    },
    {
      "cell_type": "markdown",
      "source": [
        "### Mini Desafío 3\n"
      ],
      "metadata": {
        "id": "ImoxXtHnjy2C"
      }
    },
    {
      "cell_type": "markdown",
      "source": [
        "\n",
        "Imprimir una lista en orden inverso sin utilizar la función reverse.\n",
        "\n",
        "Ejemplo:\n",
        "```\n",
        "lista = [1, 2, \"tres\"]\n",
        "```\n",
        "Salida:\n",
        "```\n",
        "\"tres\"\n",
        "2\n",
        "1\n",
        "```"
      ],
      "metadata": {
        "id": "X2RSdgxV4uJW"
      }
    },
    {
      "cell_type": "code",
      "source": [
        "# Lista inicial\n",
        "lista = [1, 2, \"tres\"]\n",
        "\n",
        "# Imprimir la lista en orden inverso\n",
        "for elemento in lista[::-1]:\n",
        "    print(elemento)\n"
      ],
      "metadata": {
        "id": "QrQhPpAWC6f_",
        "outputId": "af0cbf49-9266-4201-a65a-40ba07509b48",
        "colab": {
          "base_uri": "https://localhost:8080/"
        }
      },
      "execution_count": 43,
      "outputs": [
        {
          "output_type": "stream",
          "name": "stdout",
          "text": [
            "tres\n",
            "2\n",
            "1\n"
          ]
        }
      ]
    },
    {
      "cell_type": "markdown",
      "source": [
        "## Tuplas"
      ],
      "metadata": {
        "id": "Maxw7RIXj8Kq"
      }
    },
    {
      "cell_type": "markdown",
      "source": [
        "Las tuplas son muy similares a las listas pero sus variables no pueden ser modificadas.\n",
        "\n",
        "Se crean siguiendo la siguiente estructura:\n",
        "```\n",
        "tupla = (variable1, variable2, ...)\n",
        "```\n",
        "\n",
        "Veamos un ejemplo:"
      ],
      "metadata": {
        "id": "j-mIBKrPkA3d"
      }
    },
    {
      "cell_type": "code",
      "source": [
        "tupla = (1, 2, \"hola\")\n",
        "\n",
        "print(tupla)"
      ],
      "metadata": {
        "id": "0igjGFovkfxU",
        "outputId": "b702a57d-ad03-464c-930f-ff515b39695c",
        "colab": {
          "base_uri": "https://localhost:8080/"
        }
      },
      "execution_count": 44,
      "outputs": [
        {
          "output_type": "stream",
          "name": "stdout",
          "text": [
            "(1, 2, 'hola')\n"
          ]
        }
      ]
    },
    {
      "cell_type": "markdown",
      "source": [
        "Al igual que las listas podemos generarlas utilizando la estructura for, pero debemos indicarle con la palabra `tuple`:"
      ],
      "metadata": {
        "id": "hc4eNonFkjBX"
      }
    },
    {
      "cell_type": "code",
      "source": [
        "# Creamos una tupla con el cuadrado de los números pares de 0 a 10\n",
        "tupla = tuple(x ** 2 for x in range(0, 10, 2))\n",
        "\n",
        "print(tupla)"
      ],
      "metadata": {
        "id": "iG6409xpj9Lz",
        "outputId": "4d339468-c646-428f-9f15-b608a873a40a",
        "colab": {
          "base_uri": "https://localhost:8080/"
        }
      },
      "execution_count": 45,
      "outputs": [
        {
          "output_type": "stream",
          "name": "stdout",
          "text": [
            "(0, 4, 16, 36, 64)\n"
          ]
        }
      ]
    },
    {
      "cell_type": "markdown",
      "source": [
        "### Acceso a las variables\n"
      ],
      "metadata": {
        "id": "uNZvBHPfnsW_"
      }
    },
    {
      "cell_type": "markdown",
      "source": [
        "\n",
        "Podemos acceder a las variables pero no modificarlas utilizando la misma estructura que las listas.\n",
        "\n",
        "```\n",
        "tupla[posicion]\n",
        "```\n",
        "\n",
        "Veamos un ejemplo:"
      ],
      "metadata": {
        "id": "8HkH4f5H5HGu"
      }
    },
    {
      "cell_type": "code",
      "source": [
        "tupla = tuple(x ** 2 for x in range(0, 10, 2))\n",
        "\n",
        "print(tupla[3])"
      ],
      "metadata": {
        "colab": {
          "base_uri": "https://localhost:8080/"
        },
        "id": "WjWI0-ODky36",
        "outputId": "576dcec8-6ac3-4918-e6da-7050bb778a39"
      },
      "execution_count": 46,
      "outputs": [
        {
          "output_type": "stream",
          "name": "stdout",
          "text": [
            "36\n"
          ]
        }
      ]
    },
    {
      "cell_type": "markdown",
      "source": [
        "Pero si intentamos modificar:"
      ],
      "metadata": {
        "id": "HbG_BQoCoJzY"
      }
    },
    {
      "cell_type": "code",
      "source": [
        "tupla[3] = 25"
      ],
      "metadata": {
        "id": "CYPrGMDZoHbz",
        "outputId": "7a3cff44-0c07-4afe-b846-4d2c300f86db",
        "colab": {
          "base_uri": "https://localhost:8080/",
          "height": 141
        }
      },
      "execution_count": 48,
      "outputs": [
        {
          "output_type": "error",
          "ename": "TypeError",
          "evalue": "'tuple' object does not support item assignment",
          "traceback": [
            "\u001b[0;31m---------------------------------------------------------------------------\u001b[0m",
            "\u001b[0;31mTypeError\u001b[0m                                 Traceback (most recent call last)",
            "\u001b[0;32m<ipython-input-48-b9e0b8bd1666>\u001b[0m in \u001b[0;36m<cell line: 1>\u001b[0;34m()\u001b[0m\n\u001b[0;32m----> 1\u001b[0;31m \u001b[0mtupla\u001b[0m\u001b[0;34m[\u001b[0m\u001b[0;36m3\u001b[0m\u001b[0;34m]\u001b[0m \u001b[0;34m=\u001b[0m \u001b[0;36m25\u001b[0m\u001b[0;34m\u001b[0m\u001b[0;34m\u001b[0m\u001b[0m\n\u001b[0m",
            "\u001b[0;31mTypeError\u001b[0m: 'tuple' object does not support item assignment"
          ]
        }
      ]
    },
    {
      "cell_type": "markdown",
      "source": [
        "### Mini Desafío 4\n",
        "\n"
      ],
      "metadata": {
        "id": "kDvdFsizoXEV"
      }
    },
    {
      "cell_type": "markdown",
      "source": [
        "\n",
        "A partir de una tupla que contenga los valores de 0 al 100, generar otra tupla que contenga unicamente los valores pares.\n",
        "\n",
        "**TIP**: `for x in tupla` itera sobre cada valor de la tupla."
      ],
      "metadata": {
        "id": "P36fdBru5LpZ"
      }
    },
    {
      "cell_type": "code",
      "source": [
        "tupla =tuple(x for x in range(0,101))\n",
        "print(tupla)\n",
        "tupla2 = tuple (x for x in tupla if x % 2 == 0)\n",
        "print(tupla2)\n",
        "#me perdi"
      ],
      "metadata": {
        "id": "Pdt8gU42opqJ",
        "outputId": "93a0a2ba-1141-412b-d689-2b3c935ed26c",
        "colab": {
          "base_uri": "https://localhost:8080/"
        }
      },
      "execution_count": 58,
      "outputs": [
        {
          "output_type": "stream",
          "name": "stdout",
          "text": [
            "(0, 1, 2, 3, 4, 5, 6, 7, 8, 9, 10, 11, 12, 13, 14, 15, 16, 17, 18, 19, 20, 21, 22, 23, 24, 25, 26, 27, 28, 29, 30, 31, 32, 33, 34, 35, 36, 37, 38, 39, 40, 41, 42, 43, 44, 45, 46, 47, 48, 49, 50, 51, 52, 53, 54, 55, 56, 57, 58, 59, 60, 61, 62, 63, 64, 65, 66, 67, 68, 69, 70, 71, 72, 73, 74, 75, 76, 77, 78, 79, 80, 81, 82, 83, 84, 85, 86, 87, 88, 89, 90, 91, 92, 93, 94, 95, 96, 97, 98, 99, 100)\n",
            "(0, 2, 4, 6, 8, 10, 12, 14, 16, 18, 20, 22, 24, 26, 28, 30, 32, 34, 36, 38, 40, 42, 44, 46, 48, 50, 52, 54, 56, 58, 60, 62, 64, 66, 68, 70, 72, 74, 76, 78, 80, 82, 84, 86, 88, 90, 92, 94, 96, 98, 100)\n"
          ]
        }
      ]
    },
    {
      "cell_type": "code",
      "source": [
        "filtrar_pares = lambda numeros: tuple(filter(lambda x: x % 2 == 0, numeros))\n",
        "tupla = tuple(range(0, 101))\n",
        "resultado = filtrar_pares(tupla)\n",
        "\n",
        "print(resultado)"
      ],
      "metadata": {
        "id": "Vmda-OtPJxi1",
        "outputId": "ed815ba0-9bf8-490a-e984-e1e2335b0499",
        "colab": {
          "base_uri": "https://localhost:8080/"
        }
      },
      "execution_count": 59,
      "outputs": [
        {
          "output_type": "stream",
          "name": "stdout",
          "text": [
            "(0, 2, 4, 6, 8, 10, 12, 14, 16, 18, 20, 22, 24, 26, 28, 30, 32, 34, 36, 38, 40, 42, 44, 46, 48, 50, 52, 54, 56, 58, 60, 62, 64, 66, 68, 70, 72, 74, 76, 78, 80, 82, 84, 86, 88, 90, 92, 94, 96, 98, 100)\n"
          ]
        }
      ]
    },
    {
      "cell_type": "markdown",
      "source": [],
      "metadata": {
        "id": "2RhgCkwbHX2D"
      }
    },
    {
      "cell_type": "markdown",
      "source": [
        "# Diccionarios"
      ],
      "metadata": {
        "id": "2mjVtVZ4oUAd"
      }
    },
    {
      "cell_type": "markdown",
      "source": [
        "Los diccionarios son una estructura que permite guardar valores asociados a una llave o key. Es decir, guarda un par key,valor y nos permite acceder a ellos por esta llave.\n",
        "\n",
        "La estructura es la siguiente:\n",
        "```python\n",
        "{\n",
        "    llave: valor,\n",
        "    llave2: valor2,\n",
        "    ...\n",
        "}\n",
        "```\n",
        "Veamos un ejemplo:\n"
      ],
      "metadata": {
        "id": "k5zFQJMzoqv7"
      }
    },
    {
      "cell_type": "code",
      "source": [
        "# Generamos un diccionario donde la llave es un pais y el valor su población\n",
        "diccionario = {\n",
        "    \"Argentina\": 45300000,\n",
        "    \"Inglaterra\": 55600000,\n",
        "    \"Italia\": 59550000,\n",
        "    \"Chile\": 19200000\n",
        "}"
      ],
      "metadata": {
        "id": "Xkd3EEUCoM5e"
      },
      "execution_count": null,
      "outputs": []
    },
    {
      "cell_type": "markdown",
      "source": [
        "### Acceso a las variables"
      ],
      "metadata": {
        "id": "LteaS7qOp-_T"
      }
    },
    {
      "cell_type": "markdown",
      "source": [
        "El acceso a las variables es igual que las tuplas y las listas, solo que en vez de la posición se utiliza la llave:\n",
        "```\n",
        "diccionario[llave]\n",
        "```\n",
        "Veamos un ejemplo:"
      ],
      "metadata": {
        "id": "Q9FKGUV0qAxF"
      }
    },
    {
      "cell_type": "code",
      "source": [
        "# Generamos un diccionario donde la llave es un pais y el valor su población\n",
        "diccionario = {\n",
        "    \"Argentina\": 45300000,\n",
        "    \"Inglaterra\": 55600000,\n",
        "    \"Italia\": 59550000,\n",
        "    \"Chile\": 19200000\n",
        "}\n",
        "\n",
        "# Obtenemos el valor en la llave argentina\n",
        "poblacion = diccionario['Argentina']\n",
        "culos_cagados = diccionario ['Chile']\n",
        "\n",
        "print(\"La población de Argentina es\", poblacion)\n",
        "print(\"la cantidad de culos cagados en chile es:\", culos_cagados)"
      ],
      "metadata": {
        "id": "pJWa4mBjqASQ",
        "outputId": "6f5131ba-2731-4bf0-aadc-9d6963bb2918",
        "colab": {
          "base_uri": "https://localhost:8080/"
        }
      },
      "execution_count": 62,
      "outputs": [
        {
          "output_type": "stream",
          "name": "stdout",
          "text": [
            "La población de Argentina es 45300000\n",
            "la cantidad de culos cagados en chile es: 19200000\n"
          ]
        }
      ]
    },
    {
      "cell_type": "markdown",
      "source": [
        "Al igual que las listas las variables son modificables."
      ],
      "metadata": {
        "id": "6WOL7AR5rdDC"
      }
    },
    {
      "cell_type": "code",
      "source": [
        "diccionario = {\n",
        "    1: 2,\n",
        "    2: 3,\n",
        "    3: 4,\n",
        "}\n",
        "# Vemos que tiene la llave 3\n",
        "print(diccionario[3])\n",
        "\n",
        "# Sumamos uno a la llave 3\n",
        "diccionario[3] += 1\n",
        "\n",
        "print(diccionario[3])\n",
        "\n"
      ],
      "metadata": {
        "id": "nvLDrXP3rgJw",
        "outputId": "b7dedbb5-0afa-483b-caa5-8ddf87a9c744",
        "colab": {
          "base_uri": "https://localhost:8080/"
        }
      },
      "execution_count": 63,
      "outputs": [
        {
          "output_type": "stream",
          "name": "stdout",
          "text": [
            "4\n",
            "5\n"
          ]
        }
      ]
    },
    {
      "cell_type": "markdown",
      "source": [
        "También podemos agregar llaves en el código:\n",
        ""
      ],
      "metadata": {
        "id": "eA9oxQ8crvmS"
      }
    },
    {
      "cell_type": "code",
      "source": [
        "diccionario = {\n",
        "    1: 2, # llave 1: valor 2\n",
        "    2: 3,# llave 2: valor 3\n",
        "    3: 4,# llave 3: valor 4\n",
        "}\n",
        "\n",
        "print(diccionario)\n",
        "\n",
        "# Agregamos la llave hola con el siguiente valor\n",
        "diccionario['hola'] = 'Soy la nueva llave'\n",
        "\n",
        "print(diccionario)\n"
      ],
      "metadata": {
        "id": "2HbmcXiXqfPS",
        "outputId": "24b9635d-6db2-4b6a-b4fc-1d26d7958792",
        "colab": {
          "base_uri": "https://localhost:8080/"
        }
      },
      "execution_count": 64,
      "outputs": [
        {
          "output_type": "stream",
          "name": "stdout",
          "text": [
            "{1: 2, 2: 3, 3: 4}\n",
            "{1: 2, 2: 3, 3: 4, 'hola': 'Soy la nueva llave'}\n"
          ]
        }
      ]
    },
    {
      "cell_type": "markdown",
      "source": [
        "### Funciones\n"
      ],
      "metadata": {
        "id": "RfLDeMMFCB13"
      }
    },
    {
      "cell_type": "markdown",
      "source": [
        "\n",
        "Al igual que las otras estructuras los diccionarios tienen funciones dentro de ellos. Podemos leer sobre ellas en el siguiente [link](https://docs.python.org/3/library/stdtypes.html#dict).\n",
        "\n",
        "Veamos algunos ejemplos:"
      ],
      "metadata": {
        "id": "Wj04O0l-5eUY"
      }
    },
    {
      "cell_type": "code",
      "source": [
        "# Generamos un diccionario donde la llave es un pais y el valor su población\n",
        "diccionario = {\n",
        "    \"Argentina\": 45300000,\n",
        "    \"Inglaterra\": 55600000,\n",
        "    \"Italia\": 59550000,\n",
        "    \"Chile\": 19200000\n",
        "}\n",
        "\n",
        "# Vemos las llaves del diccionario\n",
        "print(diccionario.keys())\n",
        "\n",
        "# Vemos los valores del diccionario\n",
        "print(diccionario.values())\n",
        "\n",
        "# Vemos los elementos del diccionario\n",
        "print(diccionario.items())"
      ],
      "metadata": {
        "id": "0QDjaUqdr6yl",
        "outputId": "dc7270f6-caad-4b5b-8776-26f3a8643ade",
        "colab": {
          "base_uri": "https://localhost:8080/"
        }
      },
      "execution_count": 65,
      "outputs": [
        {
          "output_type": "stream",
          "name": "stdout",
          "text": [
            "dict_keys(['Argentina', 'Inglaterra', 'Italia', 'Chile'])\n",
            "dict_values([45300000, 55600000, 59550000, 19200000])\n",
            "dict_items([('Argentina', 45300000), ('Inglaterra', 55600000), ('Italia', 59550000), ('Chile', 19200000)])\n"
          ]
        }
      ]
    },
    {
      "cell_type": "markdown",
      "source": [
        "## Mini desafío 5"
      ],
      "metadata": {
        "id": "4krPRchrDrkg"
      }
    },
    {
      "cell_type": "markdown",
      "source": [
        "Escribir una función que una dos diccionarios. Si la key está repetida, tomar el valor del primer diccionario.\n",
        "\n",
        "Esta operación no debe modificar los diccionarios dados como parámetro.\n",
        "\n",
        "Ejemplo:\n",
        "```python\n",
        "a = {\n",
        "   'a': 1,\n",
        "   'b': 2,\n",
        "   'c': 3,\n",
        "   'd': 4,\n",
        "}\n",
        "b = {\n",
        "   'c': 5,\n",
        "   'd': 6,\n",
        "   'e': 7,\n",
        "}\n",
        "\n",
        "c = unir_diccionarios(a,b)\n",
        "print(c)\n",
        "```\n",
        "Debe dar el resultado:\n",
        "```python\n",
        "{'a':1,'b':2,'c':3,'d':4,'e':7}\n",
        "```"
      ],
      "metadata": {
        "id": "LbZfyuXEDzKL"
      }
    },
    {
      "cell_type": "code",
      "source": [
        "a = {\n",
        "   'a': 1,\n",
        "   'b': 2,\n",
        "   'c': 3,\n",
        "   'd': 4,\n",
        "}\n",
        "b = {\n",
        "   'c': 5,\n",
        "   'd': 6,\n",
        "   'e': 7,\n",
        "}\n",
        "\n",
        "c = a.copy()\n",
        "c.update(b)\n",
        "print(c)"
      ],
      "metadata": {
        "id": "1u9oNresCgtT",
        "outputId": "d8dfb2ed-6f33-4d4d-b8c6-173be1449153",
        "colab": {
          "base_uri": "https://localhost:8080/"
        }
      },
      "execution_count": 75,
      "outputs": [
        {
          "output_type": "stream",
          "name": "stdout",
          "text": [
            "{'a': 1, 'b': 2, 'c': 5, 'd': 6, 'e': 7}\n"
          ]
        }
      ]
    },
    {
      "cell_type": "markdown",
      "source": [
        "### Mini desafío 6"
      ],
      "metadata": {
        "id": "ze4JmxLKF71E"
      }
    },
    {
      "cell_type": "markdown",
      "source": [
        "Reescribir el Mini Desafío 2 de la clase 2 utilizando diccionarios."
      ],
      "metadata": {
        "id": "nxeq_TdHF-mu"
      }
    },
    {
      "cell_type": "code",
      "source": [],
      "metadata": {
        "id": "ud61wvTDF957"
      },
      "execution_count": null,
      "outputs": []
    },
    {
      "cell_type": "markdown",
      "source": [
        "# Ejercicios Integradores"
      ],
      "metadata": {
        "id": "e-19oDLWGQum"
      }
    },
    {
      "cell_type": "markdown",
      "source": [
        "## 1. Calculadora 4.0\n"
      ],
      "metadata": {
        "id": "TsitzOGuTWQF"
      }
    },
    {
      "cell_type": "markdown",
      "source": [
        "\n",
        "Reescribir la calculadora pero utilizando el diccionario para almacenar las funciones de cada cuenta.\n",
        "\n",
        "**TIP:** Se puede almacenar una función en una variable y utilizarla.\n",
        "\n",
        "Ejemplo:\n",
        "\n"
      ],
      "metadata": {
        "id": "G3qpwfQ95rut"
      }
    },
    {
      "cell_type": "code",
      "source": [
        "def suma(a, b):\n",
        "    return a+b\n",
        "\n",
        "diccionario = {\n",
        "    '+': suma\n",
        "}\n",
        "print(diccionario['+'](1,2))"
      ],
      "metadata": {
        "id": "LzTLbtV2GSgF"
      },
      "execution_count": null,
      "outputs": []
    },
    {
      "cell_type": "code",
      "source": [
        "# Realizar el ejercicio aca"
      ],
      "metadata": {
        "id": "44EM-Va8T-K1"
      },
      "execution_count": null,
      "outputs": []
    },
    {
      "cell_type": "markdown",
      "source": [
        "## 2. Cantidad de elementos de llaves de un diccionario\n",
        "\n"
      ],
      "metadata": {
        "id": "_4Es3LugUBtH"
      }
    },
    {
      "cell_type": "markdown",
      "source": [
        "Devolver la cantidad total de llaves de un diccionario, incluyendo si tiene otros diccionarios dentro de el.\n",
        "\n",
        "Ejemplo:\n",
        "```python\n",
        "diccionario = {\n",
        "    'a': {'b':1, 'c':2},\n",
        "    'b': 3,\n",
        "    'c': 4,\n",
        "}\n",
        "print(contar_keys(diccionario))\n",
        "```\n",
        "Debe devolver 5.\n",
        "\n",
        "**TIP:** Con la función `isinstance`se puede verificar si un valor es un diccionario o un int."
      ],
      "metadata": {
        "id": "1gH5m2Pp5yg0"
      }
    },
    {
      "cell_type": "code",
      "source": [],
      "metadata": {
        "id": "l1uFvTORUlKH"
      },
      "execution_count": null,
      "outputs": []
    },
    {
      "cell_type": "markdown",
      "source": [
        "## 3. Fibonacci 2.0\n"
      ],
      "metadata": {
        "id": "Xlv09opx2Bpm"
      }
    },
    {
      "cell_type": "markdown",
      "source": [
        "Realizar una función que devuelva la secuencia de fibonacci hasta la posición `n`.\n",
        "\n",
        "Ejemplo:\n",
        "```\n",
        ">>> 4\n",
        "[0, 1, 1, 2, 3]\n",
        "```\n",
        "```\n",
        ">>> 6\n",
        "[0, 1, 1, 2, 3, 5, 8]\n",
        "```"
      ],
      "metadata": {
        "id": "VTnCv73j2Npz"
      }
    },
    {
      "cell_type": "code",
      "source": [],
      "metadata": {
        "id": "EREeF7IJ2rag"
      },
      "execution_count": null,
      "outputs": []
    },
    {
      "cell_type": "markdown",
      "source": [
        "## 4. Input de estructuras\n"
      ],
      "metadata": {
        "id": "X3LPIrBq2rtw"
      }
    },
    {
      "cell_type": "markdown",
      "source": [
        "Escribir un programa que te deje ingresar el texto de una lista o tupla (que contenga solo números) y lo convierta al objeto en python.\n",
        "\n",
        "Ejemplo:\n",
        "```\n",
        ">>> [1,2,3,4]\n",
        "[1,2,3,4]\n",
        "```\n",
        "```\n",
        ">>> (4,5,6)\n",
        "(4,5,6)\n",
        "```\n",
        "**NOTA:** No se vale hacer print del input, hay que convertir al objeto.\n",
        "\n",
        "**NOTA 2:** Investigar la función split y replace de strings."
      ],
      "metadata": {
        "id": "XF5_rpNL3oWd"
      }
    },
    {
      "cell_type": "code",
      "source": [],
      "metadata": {
        "id": "tDQdbdJo3ooP"
      },
      "execution_count": null,
      "outputs": []
    }
  ]
}